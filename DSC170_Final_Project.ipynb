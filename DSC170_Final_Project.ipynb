{
 "cells": [
  {
   "cell_type": "markdown",
   "id": "db376707",
   "metadata": {},
   "source": [
    "# 1. Project Title: Drive Time Network Analysis of Opioid Overdose Locations in Mesa, Arizona\n",
    "\n",
    "***"
   ]
  },
  {
   "cell_type": "markdown",
   "id": "aab6f80d",
   "metadata": {},
   "source": [
    "### Table of Contents\n",
    "**David's Sections Done**\n",
    "* [3. Questions Addressed](#sect3)\n",
    "* [4. Background & Literature](#sect4)\n",
    "* [5. Python Packages Used](#sect5)\n",
    "* [6. Data Sources](#sect6)\n",
    "* [7. Data Cleaning](#sect7)\n",
    "* [8. Descriptive Statistics](#sect8)  - **IN PROGRESS: Marco**\n",
    "* [9. Analysis](#sect9)                - **IN PROGRESS: Marco**\n",
    "    * [9.1 Service Areas by Travel Time](#sect_9_1)\n",
    "        * [9.1A: Addiction Treatment Clinics Service Areas by Drive Time](#sect_9_1A)\n",
    "        * [9.1B: Fire + EMS Station Service Areas by Truck Time](#sect_9_1B)\n",
    "    * [9.2 Location-Allocation Analysis](#sect_9_2) - **IN PROGRESS: Marco**\n",
    "    * [9.3 Service Areas by Travel Time (with Candidate Locations)](#sect_9_3)\n",
    "        * [9.3A: Addiction Treatment Clinics Service Areas by Drive Time](#sect_9_3A)\n",
    "        * [9.3B: Fire + EMS Station Service Areas by Truck Time](#sect_9_3B)\n",
    "* [10. Summary of Products and Results](#sect10) - **IN PROGRESS: Marco**\n",
    "* [11. Discussion](#sect11)\n",
    "* [12. Conclusions & Future Work](#sect11)"
   ]
  },
  {
   "cell_type": "markdown",
   "id": "24bf6879",
   "metadata": {},
   "source": [
    "## 2. Team Members\n",
    "Marco Morocho - A15585622<br>\n",
    "David Davila-Garcia - A15642345"
   ]
  },
  {
   "cell_type": "markdown",
   "id": "08e237c8",
   "metadata": {},
   "source": [
    "## 3. Question(s) you addressed, why it is important (5pt) <a class=\"anchor\" id=\"sect3\"></a>\n",
    "<div class=\"alert alert-block alert-info\">\n",
    "<b>Instructions:</b><br> As in your project proposal, describe the intended audience and the business case for finding a\n",
    "solution to your question.<br><br>\n",
    "If your question changed significantly compared to your project proposal, please explain.<br><br>\n",
    "(at least 250 words):\n",
    "</div>\n",
    "\n",
    "<div class=\"alert alert-block alert-warning\">\n",
    "For our project, we sought to answer the following questions:\n",
    "\n",
    "**1) Using GIS, how can we determine the accessibility of Addiction Treatment Facilities and Fire/EMS Stations in Mesa, AZ?**<br>\n",
    "**2) Can we identify possible new locations for Addiction Treatment Facilities and Fire/EMS Stations to provide a better service area and minimize the number of Dead-On-Arrival (DOA) Overdoses?**\n",
    "\n",
    "We hypothesize that as the travel time for opioid overdose medical services increases, the proportion of DOA overdoses (worst outcome) will also increase. According to literature, it takes approximately 1-3 hours from the time of consumption of excess opioids until death. As such, once someone has been identified as possibly overdosing, prompt medical treatment is essential. For our dataset, we included the 2 most used medical services for opioid overdose medical treatment: Addiction Treatment Facilities (patient self check-in) and Fire/EMS Stations (first responders). \n",
    "\n",
    "In order to answer the first question, we used the features module of the ArcGIS API for Python to construct Drive Time Areas towards all Addiction Treatment Facilities, and to construct Truck Time based Service Areas from all Fire/EMS Stations. From the Drive Time Areas and Service Areas, we can aggregate the number of overdose cases, and calculate the proportion of DOA overdoses for each area. From this information, we hope to find a possible connection between travel time and DOA overdose cases.\n",
    "\n",
    "Our second question was framed as a Location-Allocation problem, such that we used the DOA overdose cases as the weight for our candidate locations. Three candidate locations for new Addiction Treatment Facilities and Fire/EMS Stations were chosen from all local government-owned vacant buildings. The hope is that the local government can optimally select new locations for Opioid Overdose Medical Services to minimize the number of DOA overdoses (worst outcome) and maximize the number of treated cases (best outcome).\n",
    "\n",
    "The intended audience for this project is the local government of Mesa, AZ, and Addiction Treatment businesses looking to expand to new locations. The findings of this project would be beneficial for the local government and Addiction Treatment businesses to understand the scope of overdose cases in Mesa, and to explore candidate locations for new Addiction Treatment Facilites and Fire/EMS Stations. These candidate locations would be able to increase the accessibility to opioid treatment services, which we suspect would decrease the number of DOA overdose cases. As such, the overall goal of this project is to minimize the number of DOA overdoses and maximize the number of treatment cases.\n",
    "\n",
    "Our project originally was focused on using a dataset for Naloxone Distribution Centers for the Drive Time Analysis. However, after receiving feedback from GIS experts, we made the decision to remove this dataset from our project and instead focus on analyzing Addiction Treatment Facilities and Fire/EMS Stations. The reasoning for this is that these two new data sources provide the majority of medical services to patients with opioid overdoses. While analysis of Naloxone Distribution Centers in relation to opioid overdose cases may lead somewhere, it is not feasible at the small scale of data that we are provided and for the types of analysis that we are conducting.\n",
    "</div>"
   ]
  },
  {
   "cell_type": "markdown",
   "id": "67f86a10",
   "metadata": {},
   "source": [
    "## 4. Background and Literature <a class=\"anchor\" id=\"sect4\"></a>\n",
    "<div class=\"alert alert-block alert-info\">\n",
    "<b>Instructions:</b><br> At least 4 bibliographic references (with links) relevant to your question. These don’t have to be\n",
    "new references; you can continue what you started in your project proposal. As before, the\n",
    "references can include research publications, online articles, blogs, github repos, online\n",
    "applications, etc.<br><br>\n",
    "As a new element of this section, reflect on how these references helped you specify the\n",
    "problem more narrowly, or focus on a specific hypothesis, or question conclusions they made,\n",
    "or improve over previously available code.<br><br>\n",
    "(at least 200 words)\n",
    "</div>\n",
    "\n",
    "<div class=\"alert alert-block alert-warning\">\n",
    "<b>References:</b><br>\n",
    "    \n",
    "1. In this spatial analysis review, the primary focus was using demographic, socioeconomic, and geographic factors to determine how to better combat overdose deaths in Mesa AZ. This dataset was the inspiration for our project as we also looked into Mesa, Arizona and wanted to expand on their ideas: <br>\n",
    "    link: https://yinaanyachebelu.github.io/opioid-overdoses-spatial-analysis/ <br><br>\n",
    "    \n",
    "2. In this article by the San Diego Addiction Treatment Center, it primarily provided an overview of the Opioid Epidemic in San Diego CA. It explains the problem at hand, history of the epidemic, current solutions, and future solutions. One of the possible solutions is providing more treament facilities to make them more accessible. This helped with the inspiration behind optimizing service area and introducing potential new locations with location-allocation.<br>\n",
    "    link: https://sdtreatmentcenter.com/california-treatment/opioid-statistics/ <br>\n",
    "<br>\n",
    "3. This website by the cdc provides more information on the opioid crisis and links to more information on current solutions. It also displays the Opioid Dispensing Rate across counties and states.:<br>\n",
    "    link: https://www.cdc.gov/drugoverdose/rxrate-maps/index.html <br>\n",
    "<br>\n",
    "4. A Geospatial analysis of overdose locations and naloxone distribution centers in New York. The main objective also serves as as inspiration to our work as they aim to use geospatial analysis to help maximize efficiency of nalaxone pharmacies and prescribers:<br>\n",
    "    link: https://publichealth.jmir.org/2022/4/e32133 <br>\n",
    "</div>"
   ]
  },
  {
   "cell_type": "markdown",
   "id": "8bea05c8",
   "metadata": {},
   "source": [
    "## 5. Python packages used <a class=\"anchor\" id=\"sect5\"></a>\n",
    "<div class=\"alert alert-block alert-info\">\n",
    "<b>Instructions:</b><br> Make this a brief list – but also mention whether and how this list has evolved compared to the\n",
    "project proposal.<br><br>\n",
    "In your notebook: identify and describe the libraries as you import them, using a combination\n",
    "of markdown and code cells.<br><br>\n",
    "(at least 100 words)\n",
    "</div>\n",
    "\n",
    "<div class=\"alert alert-block alert-warning\">\n",
    "<b>Packages:</b><br>\n",
    "    \n",
    "- __Pandas__ - Used to perform data analysis, visualize spatially enabled dataframes (SEDF), and clean data. \n",
    "- __ArcGIS Features Analyze_Patterns module__ - Used to find hotspots from our dataset\n",
    "- __ArcGIS Features Analysis Module__ - Used to merge_layers, overlay_layers/make sections, find_point_clusters\n",
    "- __ArcGIS Features Use_Proximity Module__ - Used for constructing service areas (create_drive_time_areas)\n",
    "- __ArcGIS Features Summarize_Data Module__ - Used to aggregate overdose case point data for each service area (aggregate_points)\n",
    "- __ArcGIS Network Module__ - Used for finding the optimal locations for candidate locations based on demand of DOA overdose cases (solve_location_allocation)\n",
    "\n",
    "</div>"
   ]
  },
  {
   "cell_type": "code",
   "execution_count": 1,
   "id": "bb31b028",
   "metadata": {},
   "outputs": [
    {
     "data": {
      "text/plain": [
       "'2.0.1'"
      ]
     },
     "execution_count": 1,
     "metadata": {},
     "output_type": "execute_result"
    }
   ],
   "source": [
    "import warnings\n",
    "warnings.simplefilter(action='ignore', category=FutureWarning)\n",
    "\n",
    "import pandas as pd\n",
    "import arcgis\n",
    "from arcgis.gis import GIS\n",
    "from arcgis import *\n",
    "\n",
    "#from arcgis.geoenrichment import *\n",
    "#from arcgis.geometry import *\n",
    "#from arcgis.features import FeatureLayerCollection, Feature, FeatureSet\n",
    "from arcgis import features\n",
    "\n",
    "\n",
    "#from arcgis.geocoding import geocode\n",
    "#import arcgis.network as network\n",
    "from arcgis.features.use_proximity import create_drive_time_areas\n",
    "\n",
    "import matplotlib.pyplot as plt\n",
    "arcgis.__version__"
   ]
  },
  {
   "cell_type": "code",
   "execution_count": 2,
   "id": "e0c4a182",
   "metadata": {},
   "outputs": [
    {
     "name": "stdout",
     "output_type": "stream",
     "text": [
      "D for David, M for Marco:D\n"
     ]
    }
   ],
   "source": [
    "username = input('D for David, M for Marco:')\n",
    "if username == 'D':\n",
    "    #ArcGIS Enterprise\n",
    "    #gis = GIS('https://gis-portal.ucsd.edu/portal', 'ddavilag@ad')\n",
    "    #ArcGIS Online\n",
    "    agol = GIS(username = 'dsc170wi23_9')\n",
    "elif username == 'M':\n",
    "    #ArcGIS Enterprise\n",
    "    #gis = GIS('https://gis-portal.ucsd.edu/portal', 'mmorocho@ad')\n",
    "    #ArcGIS Online\n",
    "    agol = GIS(username=\"dsc170wi23_24\")"
   ]
  },
  {
   "cell_type": "markdown",
   "id": "cd51d6b0",
   "metadata": {},
   "source": [
    "## 6. Data sources (10pt) <a class=\"anchor\" id=\"sect6\"></a>\n",
    "<div class=\"alert alert-block alert-info\">\n",
    "<b>Instructions:</b><br> Include a URL and a one-sentence description of each source you used. Make sure you have\n",
    "enough records for your machine learning application.<br><br>\n",
    "Please reflect on how your choice of sources evolved since the proposal phase, and any\n",
    "concerns about the sources you used - related to data quality, provenance, access constraints,\n",
    "etc. Also, reflect on any data that would be helpful to address your research question, which\n",
    "you could not obtain (and why). Be creative! There is a lot of additional information, sometimes\n",
    "from less traditional sources, that may help.<br><br>\n",
    "When you create a notebook, identify and describe the datasets as you load them. If the\n",
    "sources are in AGOL, provide source IDs, and/or load them using gis.content.get. Provide\n",
    "additional discussion in a markdown cell.<br><br>\n",
    "(at least 200 words)\n",
    "</div>\n",
    "\n",
    "<div class=\"alert alert-block alert-warning\">\n",
    "<b>TODO:</b> (Marco) Current Word Count: 54. Add Data for Fire/EMS Stations, Government Vacant Lots.\n",
    "</div>\n",
    "\n",
    "https://data.mesaaz.gov/Fire-and-Medical/Fire-and-Medical-Opioid-Overdose-Incidents/qufy-tzv6/explore\n",
    "<br>One-sentence description: Dataset of opioid overdose in Mesa Arizona containing 7,970 rows and 18 columns of information regarding the location of the overdose, patient information, and final outcome.\n",
    "\n",
    "https://ucsdonline.maps.arcgis.com/home/item.html?id=102602c5f0704bd08296034cdd4c9159\n",
    "<br>\n",
    "One-sentence description: Data from SAMHSA Behavioral Health Treatment Service Locator which includes both SAMHSA approved and non-approved treatment facilities that prescribe MAT (medication assisted treatment).\n",
    "\n",
    "**TODO: Add Data for Fire/EMS Locations** \n",
    "<br>\n",
    "One-sentence description: \n",
    "\n",
    "**TODO: Add Data for Government Vacant Lot Locations** \n",
    "<br>\n",
    "One-sentence description: "
   ]
  },
  {
   "cell_type": "code",
   "execution_count": null,
   "id": "63be4935",
   "metadata": {},
   "outputs": [],
   "source": [
    "od_fc = agol.content.get('a88be1ddd9914a3d836f3ebf0f0d944d')\n",
    "clinics = agol.content.get(\"4fc46ec10ac042d6b826a268d5e46f82\")\n",
    "ems = agol.content.get(\"9b27a30d79384ad6a8aa2f4e7e49dfbc\")"
   ]
  },
  {
   "cell_type": "markdown",
   "id": "343b300a",
   "metadata": {},
   "source": [
    "## 7. Data cleaning you have done (10pt) <a class=\"anchor\" id=\"sect7\"></a>\n",
    "<div class=\"alert alert-block alert-info\">\n",
    "<b>Instructions:</b><br> Describe the cleaning/wrangling operations that you performed, and whether you realized you\n",
    "needed to clean the data by examining metadata documents or by introspecting the data itself.\n",
    "Was the amount of cleaning/data preparation similar to what you expected when writing\n",
    "project proposal?<br><br>\n",
    "Organize the discussion and code as a combination of markdown and code cells.<br><br>\n",
    "(at least 100 words – less if you didn’t have to do any cleaning!)\n",
    "</div>\n",
    "<div class=\"alert alert-block alert-warning\">\n",
    "For data cleaning, all of the datasets were clean except for the provided opioid overdose case data. For this specific dataset, we had to convert the dataset from a csv to an SEDF by using Latitude and Longitude columns. Then we inspected the data and noticed there were rows with null geometries. As such, we removed these rows. In addition, we created a binary column called \"DOA\": a value of 1 means the case resulted in Dead-On-Arrival, whereas a value of 0 contains every other possible value. This column will be used for our analysis section.<br><br> After cleaning the opioid overdose data, we set the extent of all other datasets (Addiction Treatment Clinics, Fire/EMS Stations) to 60 miles drive of the opioid overdose layer. This is because these datasets originally contained data for the entire nation, but we only wanted data which was spatially relevant to our opioid case dataset. This was done manually through the ArcGIS Online Map GUI, since it was much easier to visualize. \n",
    "</div>"
   ]
  },
  {
   "cell_type": "code",
   "execution_count": 3,
   "id": "a1f35485",
   "metadata": {},
   "outputs": [
    {
     "data": {
      "text/html": [
       "<div>\n",
       "<style scoped>\n",
       "    .dataframe tbody tr th:only-of-type {\n",
       "        vertical-align: middle;\n",
       "    }\n",
       "\n",
       "    .dataframe tbody tr th {\n",
       "        vertical-align: top;\n",
       "    }\n",
       "\n",
       "    .dataframe thead th {\n",
       "        text-align: right;\n",
       "    }\n",
       "</style>\n",
       "<table border=\"1\" class=\"dataframe\">\n",
       "  <thead>\n",
       "    <tr style=\"text-align: right;\">\n",
       "      <th></th>\n",
       "      <th>Incident_Date</th>\n",
       "      <th>Day_of_Week</th>\n",
       "      <th>Month</th>\n",
       "      <th>Year</th>\n",
       "      <th>Time_of_Day</th>\n",
       "      <th>Opioid_Overdose_Review</th>\n",
       "      <th>Treatment_or_Medication_Given</th>\n",
       "      <th>Patient_Age</th>\n",
       "      <th>Gender</th>\n",
       "      <th>Incident_Disposition</th>\n",
       "      <th>...</th>\n",
       "      <th>Unit_Name</th>\n",
       "      <th>PD_Narcan</th>\n",
       "      <th>PD_Save</th>\n",
       "      <th>Complaint_Reported_by_Dispatch</th>\n",
       "      <th>Incident_ID</th>\n",
       "      <th>Mesa_Census_Tracts_2</th>\n",
       "      <th>Mesa_Census_Tracts_To_City_Boun</th>\n",
       "      <th>Mesa_Census_Tracts_To_City_Bo_1</th>\n",
       "      <th>ObjectId</th>\n",
       "      <th>SHAPE</th>\n",
       "    </tr>\n",
       "  </thead>\n",
       "  <tbody>\n",
       "    <tr>\n",
       "      <th>0</th>\n",
       "      <td>2018-11-18 00:03:31</td>\n",
       "      <td>Saturday</td>\n",
       "      <td>Nov</td>\n",
       "      <td>2018</td>\n",
       "      <td>Afternoon</td>\n",
       "      <td>true</td>\n",
       "      <td>Naloxone 2mg/2mL</td>\n",
       "      <td>25-29</td>\n",
       "      <td>Male</td>\n",
       "      <td>Treated/Transported with Medic Ride-in</td>\n",
       "      <td>...</td>\n",
       "      <td>E203</td>\n",
       "      <td>False</td>\n",
       "      <td>False</td>\n",
       "      <td>OD</td>\n",
       "      <td>F2018091136</td>\n",
       "      <td>16.0</td>\n",
       "      <td>16.0</td>\n",
       "      <td>16.0</td>\n",
       "      <td>1</td>\n",
       "      <td>{\"x\": -12450528.447773682, \"y\": 3947851.741028...</td>\n",
       "    </tr>\n",
       "    <tr>\n",
       "      <th>1</th>\n",
       "      <td>2018-12-08 07:17:38</td>\n",
       "      <td>Saturday</td>\n",
       "      <td>Dec</td>\n",
       "      <td>2018</td>\n",
       "      <td>Overnight</td>\n",
       "      <td>true</td>\n",
       "      <td>None</td>\n",
       "      <td>25-29</td>\n",
       "      <td>Male</td>\n",
       "      <td>Treated/Transported with Medic Ride-in</td>\n",
       "      <td>...</td>\n",
       "      <td>E204</td>\n",
       "      <td>False</td>\n",
       "      <td>False</td>\n",
       "      <td>OD</td>\n",
       "      <td>F2018096920</td>\n",
       "      <td>14.0</td>\n",
       "      <td>10.0</td>\n",
       "      <td>10.0</td>\n",
       "      <td>2</td>\n",
       "      <td>{\"x\": -12453311.435043514, \"y\": 3947851.741028...</td>\n",
       "    </tr>\n",
       "    <tr>\n",
       "      <th>2</th>\n",
       "      <td>2019-04-28 03:43:22</td>\n",
       "      <td>Saturday</td>\n",
       "      <td>Apr</td>\n",
       "      <td>2019</td>\n",
       "      <td>Evening</td>\n",
       "      <td>true</td>\n",
       "      <td>Naloxone 2mg/2mL</td>\n",
       "      <td>20-24</td>\n",
       "      <td>Female</td>\n",
       "      <td>Treated/Transported with Medic Ride-in</td>\n",
       "      <td>...</td>\n",
       "      <td>MR205</td>\n",
       "      <td>False</td>\n",
       "      <td>False</td>\n",
       "      <td>OD</td>\n",
       "      <td>F2019035337</td>\n",
       "      <td>45.0</td>\n",
       "      <td>44.0</td>\n",
       "      <td>44.0</td>\n",
       "      <td>3</td>\n",
       "      <td>{\"x\": -12443849.278326085, \"y\": 3951185.555109...</td>\n",
       "    </tr>\n",
       "  </tbody>\n",
       "</table>\n",
       "<p>3 rows × 23 columns</p>\n",
       "</div>"
      ],
      "text/plain": [
       "        Incident_Date Day_of_Week Month  Year Time_of_Day  \\\n",
       "0 2018-11-18 00:03:31    Saturday   Nov  2018   Afternoon   \n",
       "1 2018-12-08 07:17:38    Saturday   Dec  2018   Overnight   \n",
       "2 2019-04-28 03:43:22    Saturday   Apr  2019     Evening   \n",
       "\n",
       "  Opioid_Overdose_Review Treatment_or_Medication_Given Patient_Age  Gender  \\\n",
       "0                   true              Naloxone 2mg/2mL       25-29    Male   \n",
       "1                   true                          None       25-29    Male   \n",
       "2                   true              Naloxone 2mg/2mL       20-24  Female   \n",
       "\n",
       "                     Incident_Disposition  ...  Unit_Name  PD_Narcan PD_Save  \\\n",
       "0  Treated/Transported with Medic Ride-in  ...       E203      False   False   \n",
       "1  Treated/Transported with Medic Ride-in  ...       E204      False   False   \n",
       "2  Treated/Transported with Medic Ride-in  ...      MR205      False   False   \n",
       "\n",
       "  Complaint_Reported_by_Dispatch  Incident_ID Mesa_Census_Tracts_2  \\\n",
       "0                             OD  F2018091136                 16.0   \n",
       "1                             OD  F2018096920                 14.0   \n",
       "2                             OD  F2019035337                 45.0   \n",
       "\n",
       "  Mesa_Census_Tracts_To_City_Boun Mesa_Census_Tracts_To_City_Bo_1  ObjectId  \\\n",
       "0                            16.0                            16.0         1   \n",
       "1                            10.0                            10.0         2   \n",
       "2                            44.0                            44.0         3   \n",
       "\n",
       "                                               SHAPE  \n",
       "0  {\"x\": -12450528.447773682, \"y\": 3947851.741028...  \n",
       "1  {\"x\": -12453311.435043514, \"y\": 3947851.741028...  \n",
       "2  {\"x\": -12443849.278326085, \"y\": 3951185.555109...  \n",
       "\n",
       "[3 rows x 23 columns]"
      ]
     },
     "execution_count": 3,
     "metadata": {},
     "output_type": "execute_result"
    }
   ],
   "source": [
    "od_fl = od_fc.layers[0]\n",
    "od_sdf = od_fl.query().sdf\n",
    "od_sdf.head(3)"
   ]
  },
  {
   "cell_type": "code",
   "execution_count": 4,
   "id": "61f7da8c",
   "metadata": {},
   "outputs": [
    {
     "name": "stdout",
     "output_type": "stream",
     "text": [
      "<class 'pandas.core.frame.DataFrame'>\n",
      "RangeIndex: 7955 entries, 0 to 7954\n",
      "Data columns (total 23 columns):\n",
      " #   Column                           Non-Null Count  Dtype         \n",
      "---  ------                           --------------  -----         \n",
      " 0   Incident_Date                    7955 non-null   datetime64[ns]\n",
      " 1   Day_of_Week                      7955 non-null   object        \n",
      " 2   Month                            7955 non-null   object        \n",
      " 3   Year                             7955 non-null   int64         \n",
      " 4   Time_of_Day                      7955 non-null   object        \n",
      " 5   Opioid_Overdose_Review           7955 non-null   object        \n",
      " 6   Treatment_or_Medication_Given    4785 non-null   object        \n",
      " 7   Patient_Age                      7955 non-null   object        \n",
      " 8   Gender                           7945 non-null   object        \n",
      " 9   Incident_Disposition             7955 non-null   object        \n",
      " 10  Latitude                         7955 non-null   float64       \n",
      " 11  Longitude                        7955 non-null   float64       \n",
      " 12  Location                         7955 non-null   object        \n",
      " 13  Unit_Name                        7955 non-null   object        \n",
      " 14  PD_Narcan                        7357 non-null   object        \n",
      " 15  PD_Save                          7323 non-null   object        \n",
      " 16  Complaint_Reported_by_Dispatch   7955 non-null   object        \n",
      " 17  Incident_ID                      7955 non-null   object        \n",
      " 18  Mesa_Census_Tracts_2             7805 non-null   float64       \n",
      " 19  Mesa_Census_Tracts_To_City_Boun  7607 non-null   float64       \n",
      " 20  Mesa_Census_Tracts_To_City_Bo_1  7607 non-null   float64       \n",
      " 21  ObjectId                         7955 non-null   int64         \n",
      " 22  SHAPE                            7955 non-null   geometry      \n",
      "dtypes: datetime64[ns](1), float64(5), geometry(1), int64(2), object(14)\n",
      "memory usage: 1.4+ MB\n"
     ]
    }
   ],
   "source": [
    "#dropping values with null geometries\n",
    "od_sdf = od_sdf[~(od_sdf.SHAPE.isnull())]\n",
    "od_sdf.reset_index(inplace=True,drop=True)\n",
    "od_sdf.info()"
   ]
  },
  {
   "cell_type": "code",
   "execution_count": 5,
   "id": "c37974d0",
   "metadata": {},
   "outputs": [
    {
     "data": {
      "text/plain": [
       "False    7275\n",
       "True       48\n",
       "Name: PD_Save, dtype: int64"
      ]
     },
     "execution_count": 5,
     "metadata": {},
     "output_type": "execute_result"
    }
   ],
   "source": [
    "od_sdf['PD_Save'].value_counts()"
   ]
  },
  {
   "cell_type": "code",
   "execution_count": 6,
   "id": "f4c11f40",
   "metadata": {},
   "outputs": [
    {
     "name": "stderr",
     "output_type": "stream",
     "text": [
      "/tmp/ipykernel_348/3392527183.py:1: SettingWithCopyWarning: \n",
      "A value is trying to be set on a copy of a slice from a DataFrame.\n",
      "Try using .loc[row_indexer,col_indexer] = value instead\n",
      "\n",
      "See the caveats in the documentation: https://pandas.pydata.org/pandas-docs/stable/user_guide/indexing.html#returning-a-view-versus-a-copy\n",
      "  od_sdf['DOA'] = od_sdf['Incident_Disposition'].apply(lambda x: 1 if 'DOA' in x else 0)\n"
     ]
    },
    {
     "data": {
      "text/plain": [
       "0    5155\n",
       "1    2800\n",
       "Name: DOA, dtype: int64"
      ]
     },
     "execution_count": 6,
     "metadata": {},
     "output_type": "execute_result"
    }
   ],
   "source": [
    "od_sdf['DOA'] = od_sdf['Incident_Disposition'].apply(lambda x: 1 if 'DOA' in x else 0)\n",
    "od_sdf['DOA'].value_counts()"
   ]
  },
  {
   "cell_type": "code",
   "execution_count": 7,
   "id": "c1f91879",
   "metadata": {},
   "outputs": [
    {
     "name": "stdout",
     "output_type": "stream",
     "text": [
      "From AGOL\n"
     ]
    }
   ],
   "source": [
    "try:\n",
    "    # Title: MesaOD_Cleaned | Type: Feature Service | Owner: dsc170wi23_9\n",
    "    od = agol.content.get(\"179bb2a8da744514b7b406ab200a2719\")\n",
    "    od_fl = od.layers[0]\n",
    "    print('From AGOL')\n",
    "except:\n",
    "    od_fl = od_sdf.spatial.to_featurelayer('MesaOD_Cleaned',gis=agol)\n",
    "    print('To AGOL')\n",
    "od_sdf = od_fl.query().sdf"
   ]
  },
  {
   "cell_type": "code",
   "execution_count": 8,
   "id": "49e43388",
   "metadata": {},
   "outputs": [
    {
     "data": {
      "text/html": [
       "<div>\n",
       "<style scoped>\n",
       "    .dataframe tbody tr th:only-of-type {\n",
       "        vertical-align: middle;\n",
       "    }\n",
       "\n",
       "    .dataframe tbody tr th {\n",
       "        vertical-align: top;\n",
       "    }\n",
       "\n",
       "    .dataframe thead th {\n",
       "        text-align: right;\n",
       "    }\n",
       "</style>\n",
       "<table border=\"1\" class=\"dataframe\">\n",
       "  <thead>\n",
       "    <tr style=\"text-align: right;\">\n",
       "      <th></th>\n",
       "      <th>OBJECTID</th>\n",
       "      <th>Join_Count</th>\n",
       "      <th>TARGET_FID</th>\n",
       "      <th>ID_1</th>\n",
       "      <th>name1_1</th>\n",
       "      <th>name2_1</th>\n",
       "      <th>street1_1</th>\n",
       "      <th>street2_1</th>\n",
       "      <th>city_1</th>\n",
       "      <th>state_1</th>\n",
       "      <th>...</th>\n",
       "      <th>f43_1</th>\n",
       "      <th>f47_1</th>\n",
       "      <th>f66_1</th>\n",
       "      <th>f67_1</th>\n",
       "      <th>f70_1</th>\n",
       "      <th>f81_1</th>\n",
       "      <th>f92_1</th>\n",
       "      <th>n24_1</th>\n",
       "      <th>n40_1</th>\n",
       "      <th>SHAPE</th>\n",
       "    </tr>\n",
       "  </thead>\n",
       "  <tbody>\n",
       "    <tr>\n",
       "      <th>0</th>\n",
       "      <td>1</td>\n",
       "      <td>1</td>\n",
       "      <td>6851</td>\n",
       "      <td>11719</td>\n",
       "      <td>Community Bridges Inc</td>\n",
       "      <td>Transition Point Residential</td>\n",
       "      <td>5734 East Hope Lane</td>\n",
       "      <td></td>\n",
       "      <td>Globe</td>\n",
       "      <td>AZ</td>\n",
       "      <td>...</td>\n",
       "      <td></td>\n",
       "      <td>0</td>\n",
       "      <td></td>\n",
       "      <td>0</td>\n",
       "      <td></td>\n",
       "      <td></td>\n",
       "      <td>0</td>\n",
       "      <td></td>\n",
       "      <td></td>\n",
       "      <td>{\"x\": -110.81392199999999, \"y\": 33.40272600000...</td>\n",
       "    </tr>\n",
       "    <tr>\n",
       "      <th>1</th>\n",
       "      <td>2</td>\n",
       "      <td>1</td>\n",
       "      <td>6852</td>\n",
       "      <td>11721</td>\n",
       "      <td>Canyonlands Community Healthcare</td>\n",
       "      <td>Globe</td>\n",
       "      <td>5860 South Hospital Drive</td>\n",
       "      <td>Suite 102</td>\n",
       "      <td>Globe</td>\n",
       "      <td>AZ</td>\n",
       "      <td>...</td>\n",
       "      <td></td>\n",
       "      <td>0</td>\n",
       "      <td></td>\n",
       "      <td>0</td>\n",
       "      <td></td>\n",
       "      <td></td>\n",
       "      <td>0</td>\n",
       "      <td></td>\n",
       "      <td></td>\n",
       "      <td>{\"x\": -110.82661318799995, \"y\": 33.40727531300...</td>\n",
       "    </tr>\n",
       "    <tr>\n",
       "      <th>2</th>\n",
       "      <td>3</td>\n",
       "      <td>1</td>\n",
       "      <td>6853</td>\n",
       "      <td>11720</td>\n",
       "      <td>Community Bridges Inc</td>\n",
       "      <td>Globe Outpatient Services Center</td>\n",
       "      <td>5734 East Hope Lane</td>\n",
       "      <td></td>\n",
       "      <td>Globe</td>\n",
       "      <td>AZ</td>\n",
       "      <td>...</td>\n",
       "      <td></td>\n",
       "      <td>0</td>\n",
       "      <td></td>\n",
       "      <td>0</td>\n",
       "      <td></td>\n",
       "      <td></td>\n",
       "      <td>0</td>\n",
       "      <td></td>\n",
       "      <td></td>\n",
       "      <td>{\"x\": -110.81392199999999, \"y\": 33.40272600000...</td>\n",
       "    </tr>\n",
       "  </tbody>\n",
       "</table>\n",
       "<p>3 rows × 246 columns</p>\n",
       "</div>"
      ],
      "text/plain": [
       "   OBJECTID  Join_Count  TARGET_FID   ID_1                           name1_1  \\\n",
       "0         1           1        6851  11719             Community Bridges Inc   \n",
       "1         2           1        6852  11721  Canyonlands Community Healthcare   \n",
       "2         3           1        6853  11720             Community Bridges Inc   \n",
       "\n",
       "                            name2_1                  street1_1  street2_1  \\\n",
       "0      Transition Point Residential        5734 East Hope Lane              \n",
       "1                             Globe  5860 South Hospital Drive  Suite 102   \n",
       "2  Globe Outpatient Services Center        5734 East Hope Lane              \n",
       "\n",
       "  city_1 state_1  ...  f43_1  f47_1 f66_1 f67_1 f70_1 f81_1 f92_1 n24_1  \\\n",
       "0  Globe      AZ  ...             0           0                 0         \n",
       "1  Globe      AZ  ...             0           0                 0         \n",
       "2  Globe      AZ  ...             0           0                 0         \n",
       "\n",
       "   n40_1                                              SHAPE  \n",
       "0         {\"x\": -110.81392199999999, \"y\": 33.40272600000...  \n",
       "1         {\"x\": -110.82661318799995, \"y\": 33.40727531300...  \n",
       "2         {\"x\": -110.81392199999999, \"y\": 33.40272600000...  \n",
       "\n",
       "[3 rows x 246 columns]"
      ]
     },
     "execution_count": 8,
     "metadata": {},
     "output_type": "execute_result"
    }
   ],
   "source": [
    "# Title: Intersect_of_MATFacilities_and_mat_az | Type: Feature Service | Owner: dsc170wi23_24\n",
    "clinics_fl = clinics.layers[0]\n",
    "clinics_sdf = clinics_fl.query().sdf\n",
    "clinics_sdf.head(3)"
   ]
  },
  {
   "cell_type": "code",
   "execution_count": 9,
   "id": "fff32c89",
   "metadata": {},
   "outputs": [
    {
     "name": "stdout",
     "output_type": "stream",
     "text": [
      "<class 'pandas.core.frame.DataFrame'>\n",
      "RangeIndex: 105 entries, 0 to 104\n",
      "Columns: 246 entries, OBJECTID to SHAPE\n",
      "dtypes: float64(2), geometry(1), int32(208), int64(1), object(34)\n",
      "memory usage: 116.6+ KB\n"
     ]
    }
   ],
   "source": [
    "clinics_sdf.info()"
   ]
  },
  {
   "cell_type": "code",
   "execution_count": 10,
   "id": "c15e0871",
   "metadata": {},
   "outputs": [
    {
     "data": {
      "text/html": [
       "<div>\n",
       "<style scoped>\n",
       "    .dataframe tbody tr th:only-of-type {\n",
       "        vertical-align: middle;\n",
       "    }\n",
       "\n",
       "    .dataframe tbody tr th {\n",
       "        vertical-align: top;\n",
       "    }\n",
       "\n",
       "    .dataframe thead th {\n",
       "        text-align: right;\n",
       "    }\n",
       "</style>\n",
       "<table border=\"1\" class=\"dataframe\">\n",
       "  <thead>\n",
       "    <tr style=\"text-align: right;\">\n",
       "      <th></th>\n",
       "      <th>OBJECTID</th>\n",
       "      <th>Join_Count</th>\n",
       "      <th>TARGET_FID</th>\n",
       "      <th>PERMANENT_IDENTIFIER</th>\n",
       "      <th>SOURCE_FEATUREID</th>\n",
       "      <th>SOURCE_DATASETID</th>\n",
       "      <th>SOURCE_DATADESC</th>\n",
       "      <th>SOURCE_ORIGINATOR</th>\n",
       "      <th>DATA_SECURITY</th>\n",
       "      <th>DISTRIBUTION_POLICY</th>\n",
       "      <th>...</th>\n",
       "      <th>ADMINTYPE</th>\n",
       "      <th>ADDRESSBUILDINGNAME</th>\n",
       "      <th>ADDRESS</th>\n",
       "      <th>CITY</th>\n",
       "      <th>STATE</th>\n",
       "      <th>ZIPCODE</th>\n",
       "      <th>GNIS_ID</th>\n",
       "      <th>FOOT_ID</th>\n",
       "      <th>COMPLEX_ID</th>\n",
       "      <th>SHAPE</th>\n",
       "    </tr>\n",
       "  </thead>\n",
       "  <tbody>\n",
       "    <tr>\n",
       "      <th>0</th>\n",
       "      <td>1</td>\n",
       "      <td>1</td>\n",
       "      <td>700615</td>\n",
       "      <td>{193839F9-8DCB-4225-9200-160832504520}</td>\n",
       "      <td>None</td>\n",
       "      <td>f12e209c-c49c-465a-96a1-30351bf68084</td>\n",
       "      <td>740 TNMC Update 3/24/2019</td>\n",
       "      <td>U.S. Geological Survey</td>\n",
       "      <td>5</td>\n",
       "      <td>E4</td>\n",
       "      <td>...</td>\n",
       "      <td>NaN</td>\n",
       "      <td>None</td>\n",
       "      <td>7816 East University Drive</td>\n",
       "      <td>Mesa</td>\n",
       "      <td>AZ</td>\n",
       "      <td>85207</td>\n",
       "      <td>2672541</td>\n",
       "      <td>None</td>\n",
       "      <td>None</td>\n",
       "      <td>{\"x\": -12430234.625899997, \"y\": 3951556.275500...</td>\n",
       "    </tr>\n",
       "    <tr>\n",
       "      <th>1</th>\n",
       "      <td>2</td>\n",
       "      <td>1</td>\n",
       "      <td>700616</td>\n",
       "      <td>{D6A2D56C-8ADA-41BF-B627-7A62E7BAB4F9}</td>\n",
       "      <td>None</td>\n",
       "      <td>80eb208f-c0a5-4ed8-b134-04b3f4223b74</td>\n",
       "      <td>740 TNMC Update 3/25/2019</td>\n",
       "      <td>U.S. Geological Survey</td>\n",
       "      <td>5</td>\n",
       "      <td>E4</td>\n",
       "      <td>...</td>\n",
       "      <td>NaN</td>\n",
       "      <td>None</td>\n",
       "      <td>5950 East Virginia Street</td>\n",
       "      <td>Mesa</td>\n",
       "      <td>AZ</td>\n",
       "      <td>85215</td>\n",
       "      <td>2672542</td>\n",
       "      <td>None</td>\n",
       "      <td>None</td>\n",
       "      <td>{\"x\": -12434604.862399997, \"y\": 3958869.784999...</td>\n",
       "    </tr>\n",
       "    <tr>\n",
       "      <th>2</th>\n",
       "      <td>3</td>\n",
       "      <td>1</td>\n",
       "      <td>700627</td>\n",
       "      <td>{48871064-9942-4828-BAB9-14C750D6369E}</td>\n",
       "      <td>None</td>\n",
       "      <td>d3f87c29-ae37-40a7-a2ee-3e4c79428b2e</td>\n",
       "      <td>740 TNMC Update 5/8/2019</td>\n",
       "      <td>U.S. Geological Survey</td>\n",
       "      <td>5</td>\n",
       "      <td>E4</td>\n",
       "      <td>...</td>\n",
       "      <td>NaN</td>\n",
       "      <td>None</td>\n",
       "      <td>5400 South McClintock Drive</td>\n",
       "      <td>Tempe</td>\n",
       "      <td>AZ</td>\n",
       "      <td>85283</td>\n",
       "      <td>2672600</td>\n",
       "      <td>None</td>\n",
       "      <td>None</td>\n",
       "      <td>{\"x\": -12457881.8794, \"y\": 3945222.971600011, ...</td>\n",
       "    </tr>\n",
       "  </tbody>\n",
       "</table>\n",
       "<p>3 rows × 26 columns</p>\n",
       "</div>"
      ],
      "text/plain": [
       "   OBJECTID  Join_Count  TARGET_FID                    PERMANENT_IDENTIFIER  \\\n",
       "0         1           1      700615  {193839F9-8DCB-4225-9200-160832504520}   \n",
       "1         2           1      700616  {D6A2D56C-8ADA-41BF-B627-7A62E7BAB4F9}   \n",
       "2         3           1      700627  {48871064-9942-4828-BAB9-14C750D6369E}   \n",
       "\n",
       "  SOURCE_FEATUREID                      SOURCE_DATASETID  \\\n",
       "0             None  f12e209c-c49c-465a-96a1-30351bf68084   \n",
       "1             None  80eb208f-c0a5-4ed8-b134-04b3f4223b74   \n",
       "2             None  d3f87c29-ae37-40a7-a2ee-3e4c79428b2e   \n",
       "\n",
       "             SOURCE_DATADESC       SOURCE_ORIGINATOR  DATA_SECURITY  \\\n",
       "0  740 TNMC Update 3/24/2019  U.S. Geological Survey              5   \n",
       "1  740 TNMC Update 3/25/2019  U.S. Geological Survey              5   \n",
       "2   740 TNMC Update 5/8/2019  U.S. Geological Survey              5   \n",
       "\n",
       "  DISTRIBUTION_POLICY  ... ADMINTYPE  ADDRESSBUILDINGNAME  \\\n",
       "0                  E4  ...       NaN                 None   \n",
       "1                  E4  ...       NaN                 None   \n",
       "2                  E4  ...       NaN                 None   \n",
       "\n",
       "                       ADDRESS   CITY  STATE  ZIPCODE  GNIS_ID FOOT_ID  \\\n",
       "0   7816 East University Drive   Mesa     AZ    85207  2672541    None   \n",
       "1    5950 East Virginia Street   Mesa     AZ    85215  2672542    None   \n",
       "2  5400 South McClintock Drive  Tempe     AZ    85283  2672600    None   \n",
       "\n",
       "  COMPLEX_ID                                              SHAPE  \n",
       "0       None  {\"x\": -12430234.625899997, \"y\": 3951556.275500...  \n",
       "1       None  {\"x\": -12434604.862399997, \"y\": 3958869.784999...  \n",
       "2       None  {\"x\": -12457881.8794, \"y\": 3945222.971600011, ...  \n",
       "\n",
       "[3 rows x 26 columns]"
      ]
     },
     "execution_count": 10,
     "metadata": {},
     "output_type": "execute_result"
    }
   ],
   "source": [
    "# Title: Fire_Stations_EMS_Stations_and_emergency_services | Type: Feature Service | Owner: dsc170wi23_24\n",
    "ems_fl = ems.layers[0]\n",
    "ems_sdf = ems_fl.query().sdf\n",
    "ems_sdf.head(3)"
   ]
  },
  {
   "cell_type": "code",
   "execution_count": 11,
   "id": "13bfbd02",
   "metadata": {},
   "outputs": [
    {
     "name": "stdout",
     "output_type": "stream",
     "text": [
      "<class 'pandas.core.frame.DataFrame'>\n",
      "RangeIndex: 102 entries, 0 to 101\n",
      "Data columns (total 26 columns):\n",
      " #   Column                Non-Null Count  Dtype         \n",
      "---  ------                --------------  -----         \n",
      " 0   OBJECTID              102 non-null    int64         \n",
      " 1   Join_Count            102 non-null    int64         \n",
      " 2   TARGET_FID            102 non-null    int64         \n",
      " 3   PERMANENT_IDENTIFIER  102 non-null    object        \n",
      " 4   SOURCE_FEATUREID      12 non-null     object        \n",
      " 5   SOURCE_DATASETID      102 non-null    object        \n",
      " 6   SOURCE_DATADESC       102 non-null    object        \n",
      " 7   SOURCE_ORIGINATOR     102 non-null    object        \n",
      " 8   DATA_SECURITY         102 non-null    int64         \n",
      " 9   DISTRIBUTION_POLICY   102 non-null    object        \n",
      " 10  LOADDATE              102 non-null    datetime64[ns]\n",
      " 11  FTYPE                 102 non-null    int64         \n",
      " 12  FCODE                 102 non-null    int64         \n",
      " 13  NAME                  102 non-null    object        \n",
      " 14  ISLANDMARK            55 non-null     float64       \n",
      " 15  POINTLOCATIONTYPE     102 non-null    int64         \n",
      " 16  ADMINTYPE             13 non-null     float64       \n",
      " 17  ADDRESSBUILDINGNAME   0 non-null      object        \n",
      " 18  ADDRESS               102 non-null    object        \n",
      " 19  CITY                  102 non-null    object        \n",
      " 20  STATE                 102 non-null    object        \n",
      " 21  ZIPCODE               102 non-null    object        \n",
      " 22  GNIS_ID               99 non-null     object        \n",
      " 23  FOOT_ID               9 non-null      object        \n",
      " 24  COMPLEX_ID            0 non-null      object        \n",
      " 25  SHAPE                 102 non-null    geometry      \n",
      "dtypes: datetime64[ns](1), float64(2), geometry(1), int64(7), object(15)\n",
      "memory usage: 20.8+ KB\n"
     ]
    }
   ],
   "source": [
    "ems_sdf.info()"
   ]
  },
  {
   "cell_type": "markdown",
   "id": "cf128380",
   "metadata": {},
   "source": [
    "## 8. Descriptive statistics for the data (10pt) <a class=\"anchor\" id=\"sect8\"></a>\n",
    "<div class=\"alert alert-block alert-info\">\n",
    "<b>Instructions:</b><br> Explore the data using maps, charts, and common descriptive statistics. Sample questions you\n",
    "can try to answer: is there spatial autocorrelation in the data? Are you dealing with random\n",
    "point patterns? What is the spatial mean and standard distance? Or why the above questions\n",
    "are not relevant to your research theme and the data?<br><br>\n",
    "(a combination of markdown and documented code cells)\n",
    "</div>"
   ]
  },
  {
   "cell_type": "code",
   "execution_count": 12,
   "id": "559511e1",
   "metadata": {},
   "outputs": [
    {
     "data": {
      "application/vnd.jupyter.widget-view+json": {
       "model_id": "2c0f03be6b044f5ba2b38ca3539ab430",
       "version_major": 2,
       "version_minor": 0
      },
      "text/plain": [
       "MapView(layout=Layout(height='400px', width='100%'))"
      ]
     },
     "metadata": {},
     "output_type": "display_data"
    },
    {
     "data": {
      "text/html": [
       "<div class=\"map-static-img-preview-4514ac87-ca0b-42e7-9fa4-1c902c9d19d7\"><img src=\"\"></img></div>"
      ],
      "text/plain": [
       "<IPython.core.display.HTML object>"
      ]
     },
     "metadata": {},
     "output_type": "display_data"
    },
    {
     "data": {
      "text/html": [
       "<div class=\"map-html-embed-preview-4514ac87-ca0b-42e7-9fa4-1c902c9d19d7\"></div>"
      ],
      "text/plain": [
       "<IPython.core.display.HTML object>"
      ]
     },
     "metadata": {},
     "output_type": "display_data"
    }
   ],
   "source": [
    "# Map of Overdose Cases\n",
    "map_overdoses = agol.map('Mesa')\n",
    "od_sdf.spatial.plot(map_widget=map_overdoses,\n",
    "                    renderer_type = 's',\n",
    "                    symbol_type='simple',\n",
    "                    colors='Reds_r',\n",
    "                    outline_style='s',\n",
    "                    outline_color=[0,0,0,0],\n",
    "                    marker_size=5,\n",
    "                    alpha=0.1\n",
    "                   )\n",
    "map_overdoses"
   ]
  },
  {
   "cell_type": "markdown",
   "id": "5ca9d4a9",
   "metadata": {},
   "source": [
    "This map was created to better understand the spatial distribution of overdose cases. In the map above, we see that each of the overdose points are equally spaced by approximately 1/3 mile. Darker points correspond to higher raw counts of overdoses found in each (1/3 mile)^2 area. It is shown that there are a higher concentration of overdoses in downtown Mesa."
   ]
  },
  {
   "cell_type": "code",
   "execution_count": 13,
   "id": "0017100b",
   "metadata": {
    "scrolled": false
   },
   "outputs": [
    {
     "data": {
      "application/vnd.jupyter.widget-view+json": {
       "model_id": "10c6f786fbf74816841b044e0b88e20d",
       "version_major": 2,
       "version_minor": 0
      },
      "text/plain": [
       "MapView(layout=Layout(height='400px', width='100%'), legend=True)"
      ]
     },
     "metadata": {},
     "output_type": "display_data"
    },
    {
     "data": {
      "text/html": [
       "<div class=\"map-static-img-preview-3e3066d8-62a7-46f1-81c8-4a72f0befd6b\"><img src=\"\"></img></div>"
      ],
      "text/plain": [
       "<IPython.core.display.HTML object>"
      ]
     },
     "metadata": {},
     "output_type": "display_data"
    },
    {
     "data": {
      "text/html": [
       "<div class=\"map-html-embed-preview-3e3066d8-62a7-46f1-81c8-4a72f0befd6b\"></div>"
      ],
      "text/plain": [
       "<IPython.core.display.HTML object>"
      ]
     },
     "metadata": {},
     "output_type": "display_data"
    }
   ],
   "source": [
    "map_DOA = agol.map('Mesa')\n",
    "od_sdf.spatial.plot(map_widget=map_DOA,\n",
    "               renderer_type='c',  # for class breaks renderer\n",
    "               class_count=2,  # choose the number of classes\n",
    "               col='DOA',  # numeric column to classify\n",
    "               cmap='Paired',  # color map to pick colors from for each class\n",
    "               outline_color=[0,0,0,0],\n",
    "               marker_size=5,\n",
    "               alpha=0.9  # specify opacity\n",
    "               )\n",
    "map_DOA.legend = True\n",
    "map_DOA"
   ]
  },
  {
   "cell_type": "markdown",
   "id": "8efb9a4a",
   "metadata": {},
   "source": [
    "**TODO: (Marco)**"
   ]
  },
  {
   "cell_type": "code",
   "execution_count": 14,
   "id": "f087dd57",
   "metadata": {},
   "outputs": [
    {
     "data": {
      "application/vnd.jupyter.widget-view+json": {
       "model_id": "f9f200ba9d894968a9250dc952c23db8",
       "version_major": 2,
       "version_minor": 0
      },
      "text/plain": [
       "MapView(layout=Layout(height='400px', width='100%'))"
      ]
     },
     "metadata": {},
     "output_type": "display_data"
    },
    {
     "data": {
      "text/html": [
       "<div class=\"map-static-img-preview-88c3229e-ad1d-4174-9764-38bf837e98ea\"><img src=\"\"></img></div>"
      ],
      "text/plain": [
       "<IPython.core.display.HTML object>"
      ]
     },
     "metadata": {},
     "output_type": "display_data"
    },
    {
     "data": {
      "text/html": [
       "<div class=\"map-html-embed-preview-88c3229e-ad1d-4174-9764-38bf837e98ea\"></div>"
      ],
      "text/plain": [
       "<IPython.core.display.HTML object>"
      ]
     },
     "metadata": {},
     "output_type": "display_data"
    }
   ],
   "source": [
    "# Map of Addiction Treatment Clinics\n",
    "map_clinics = agol.map('Mesa')\n",
    "clinics_sdf.spatial.plot(map_widget=map_clinics,\n",
    "                    renderer_type = 's',\n",
    "                    symbol_type='simple',\n",
    "                    symbol_style='d',\n",
    "                    colors='Greens_r',\n",
    "                    outline_style='s',\n",
    "                    outline_color=[0,100,255,150],\n",
    "                    marker_size=5,\n",
    "                    alpha=1\n",
    "                   )\n",
    "map_clinics"
   ]
  },
  {
   "cell_type": "markdown",
   "id": "74dd5b73",
   "metadata": {},
   "source": [
    "This map was created to visualize the spatial distribution of Addiction Treatment Clinics within 60 miles driving of our Opioid Overdose Dataset. We can see that there appears to be a cluster of clinics in the heart of downtown Mesa. "
   ]
  },
  {
   "cell_type": "code",
   "execution_count": 15,
   "id": "4b3fbb5b",
   "metadata": {},
   "outputs": [
    {
     "data": {
      "application/vnd.jupyter.widget-view+json": {
       "model_id": "c3710592584b444db798dcb559625ee3",
       "version_major": 2,
       "version_minor": 0
      },
      "text/plain": [
       "MapView(layout=Layout(height='400px', width='100%'))"
      ]
     },
     "metadata": {},
     "output_type": "display_data"
    },
    {
     "data": {
      "text/html": [
       "<div class=\"map-static-img-preview-dca8cd82-1985-4119-8242-3e36a01ca510\"><img src=\"\"></img></div>"
      ],
      "text/plain": [
       "<IPython.core.display.HTML object>"
      ]
     },
     "metadata": {},
     "output_type": "display_data"
    },
    {
     "data": {
      "text/html": [
       "<div class=\"map-html-embed-preview-dca8cd82-1985-4119-8242-3e36a01ca510\"></div>"
      ],
      "text/plain": [
       "<IPython.core.display.HTML object>"
      ]
     },
     "metadata": {},
     "output_type": "display_data"
    }
   ],
   "source": [
    "map_ems = agol.map('Mesa')\n",
    "ems_sdf.spatial.plot(map_widget=map_ems,\n",
    "                    renderer_type = 's',\n",
    "                    symbol_type='simple',\n",
    "                    symbol_style='+',\n",
    "                    colors='Greens_r',\n",
    "                    outline_style='s',\n",
    "                    outline_color=[0,255,45,150],\n",
    "                    marker_size=5,\n",
    "                    alpha=1\n",
    "                   )\n",
    "map_ems"
   ]
  },
  {
   "cell_type": "markdown",
   "id": "2a08cf3c",
   "metadata": {},
   "source": [
    "**TODO: (Marco)**"
   ]
  },
  {
   "cell_type": "code",
   "execution_count": 16,
   "id": "de8c1053",
   "metadata": {},
   "outputs": [
    {
     "data": {
      "application/vnd.jupyter.widget-view+json": {
       "model_id": "424b2db943eb4ecba192a66570590b98",
       "version_major": 2,
       "version_minor": 0
      },
      "text/plain": [
       "MapView(layout=Layout(height='400px', width='100%'))"
      ]
     },
     "metadata": {},
     "output_type": "display_data"
    },
    {
     "data": {
      "text/html": [
       "<div class=\"map-static-img-preview-338af5c6-58f8-4e97-aa58-d8e3055f7c4a\"><img src=\"\"></img></div>"
      ],
      "text/plain": [
       "<IPython.core.display.HTML object>"
      ]
     },
     "metadata": {},
     "output_type": "display_data"
    },
    {
     "data": {
      "text/html": [
       "<div class=\"map-html-embed-preview-338af5c6-58f8-4e97-aa58-d8e3055f7c4a\"></div>"
      ],
      "text/plain": [
       "<IPython.core.display.HTML object>"
      ]
     },
     "metadata": {},
     "output_type": "display_data"
    }
   ],
   "source": [
    "map_all = agol.map('Mesa')\n",
    "od_sdf.spatial.plot(map_widget=map_all,\n",
    "                    renderer_type = 's',\n",
    "                    symbol_type='simple',\n",
    "                    colors='Reds_r',\n",
    "                    outline_style='s',\n",
    "                    outline_color=[0,0,0,0],\n",
    "                    marker_size=5,\n",
    "                    alpha=0.1\n",
    "                   )\n",
    "ems_sdf.spatial.plot(map_widget=map_all,\n",
    "                    renderer_type = 's',\n",
    "                    symbol_type='simple',\n",
    "                    symbol_style='+',\n",
    "                    colors='Greens_r',\n",
    "                    outline_style='s',\n",
    "                    outline_color=[0,255,45,150],\n",
    "                    marker_size=5,\n",
    "                    alpha=1\n",
    "                   )\n",
    "clinics_sdf.spatial.plot(map_widget=map_all,\n",
    "                    renderer_type = 's',\n",
    "                    symbol_type='simple',\n",
    "                    symbol_style='d',\n",
    "                    colors='Greens_r',\n",
    "                    outline_style='s',\n",
    "                    outline_color=[0,100,255,150],\n",
    "                    marker_size=5,\n",
    "                    alpha=1\n",
    "                   )\n",
    "map_all"
   ]
  },
  {
   "cell_type": "markdown",
   "id": "e99994e5",
   "metadata": {},
   "source": [
    "In this map, we show the outputs from the three previous maps. In red, we have the opioid overdose locations. In green, we have the Fire/EMS Stations within 60 miles driving of the opioid overdose cases. In Blue, we have the Addiction Treatment Clinics within 60 miles driving of the opioid overdose cases. If you zoom into Mesa, it can be seen that the Fire/EMS Stations appear to be much more evenly spaced compared to the Addiction Treatment Clinics. In addition, it appears that there are few addiction clinics outside of Downtown Mesa. As such, we suspect that overdose cases in Eastern Mesa would have to drive further to receive medical care."
   ]
  },
  {
   "cell_type": "code",
   "execution_count": 17,
   "id": "11c70344",
   "metadata": {},
   "outputs": [
    {
     "name": "stdout",
     "output_type": "stream",
     "text": [
      "From AGOL\n"
     ]
    },
    {
     "data": {
      "application/vnd.jupyter.widget-view+json": {
       "model_id": "6545c1b6c0c244a7a099c52473796915",
       "version_major": 2,
       "version_minor": 0
      },
      "text/plain": [
       "MapView(layout=Layout(height='400px', width='100%'), legend=True)"
      ]
     },
     "metadata": {},
     "output_type": "display_data"
    },
    {
     "data": {
      "text/html": [
       "<div class=\"map-static-img-preview-230dacf3-3cf2-4891-9fe2-1e9fa38fae58\"><img src=\"\"></img></div>"
      ],
      "text/plain": [
       "<IPython.core.display.HTML object>"
      ]
     },
     "metadata": {},
     "output_type": "display_data"
    },
    {
     "data": {
      "text/html": [
       "<div class=\"map-html-embed-preview-230dacf3-3cf2-4891-9fe2-1e9fa38fae58\"></div>"
      ],
      "text/plain": [
       "<IPython.core.display.HTML object>"
      ]
     },
     "metadata": {},
     "output_type": "display_data"
    }
   ],
   "source": [
    "# Heatmap of Overdose data\n",
    "try:\n",
    "    od_hotspot = agol.content.get(\"c553c962c3234d25a3d3c4f55bdf89e9\")\n",
    "    print('From AGOL')\n",
    "    \n",
    "except:\n",
    "    hot_spots = find_hot_spots(od_fl,output_name='OverdoseHotSpots')\n",
    "    print('To AGOL')\n",
    "    \n",
    "map_hotspots = agol.map('Mesa')\n",
    "map_hotspots.add_layer(od_hotspot)\n",
    "map_hotspots.legend = True\n",
    "map_hotspots"
   ]
  },
  {
   "cell_type": "markdown",
   "id": "3fd52244",
   "metadata": {},
   "source": [
    "**TODO: (Marco)**"
   ]
  },
  {
   "cell_type": "code",
   "execution_count": 18,
   "id": "c7b81847",
   "metadata": {},
   "outputs": [
    {
     "name": "stdout",
     "output_type": "stream",
     "text": [
      "From AGOL\n"
     ]
    },
    {
     "data": {
      "application/vnd.jupyter.widget-view+json": {
       "model_id": "fc7e13ecf39a46d285ca5c809cb11819",
       "version_major": 2,
       "version_minor": 0
      },
      "text/plain": [
       "MapView(layout=Layout(height='400px', width='100%'), legend=True)"
      ]
     },
     "metadata": {},
     "output_type": "display_data"
    },
    {
     "data": {
      "text/html": [
       "<div class=\"map-static-img-preview-0f86baa2-5bac-474e-aba0-d180c53f178e\"><img src=\"\"></img></div>"
      ],
      "text/plain": [
       "<IPython.core.display.HTML object>"
      ]
     },
     "metadata": {},
     "output_type": "display_data"
    },
    {
     "data": {
      "text/html": [
       "<div class=\"map-html-embed-preview-0f86baa2-5bac-474e-aba0-d180c53f178e\"></div>"
      ],
      "text/plain": [
       "<IPython.core.display.HTML object>"
      ]
     },
     "metadata": {},
     "output_type": "display_data"
    }
   ],
   "source": [
    "# Heatmap of Overdoses that lead to a DOA\n",
    "doa_fl = agol.content.get('5a0529106cf1468ba85a4ece41d5ac30')\n",
    "try:\n",
    "    doa_od_hotspot = agol.content.get(\"82993577f6614fa9879418db30c0ce86\")\n",
    "    print('From AGOL')\n",
    "    \n",
    "except:\n",
    "    doa_hot_spots = find_hot_spots(doa_fl,output_name='DOA_OverdoseHotSpots')\n",
    "    print('To AGOL')\n",
    "\n",
    "doa_map_hotspots = agol.map('Mesa')\n",
    "doa_map_hotspots.add_layer(doa_od_hotspot)\n",
    "doa_map_hotspots.legend = True\n",
    "doa_map_hotspots"
   ]
  },
  {
   "cell_type": "markdown",
   "id": "6163fc51",
   "metadata": {},
   "source": [
    "We created this heatmap to display the spatial distribution of Dead-On-Arrival (DOA) overdose cases in Mesa, AZ. We can see that there appears to be a high concentration of DOA cases in downtown Mesa, and on the western border shared with Tempe. In addition, it can be seen that the eastern and northern boundaries of Mesa appear to be Cold spots for DOA cases. It is notable that the middle of Mesa appears to be a hot spot for DOA overdose cases, since in the previous map this area was not characterized as a hot-spot. Perhaps there are not enough Addiction Treatment Clinics or Fire/EMS Stations near this hotspot... We will investigate this later on in the notebook."
   ]
  },
  {
   "cell_type": "code",
   "execution_count": 19,
   "id": "d0ca343b",
   "metadata": {},
   "outputs": [
    {
     "name": "stdout",
     "output_type": "stream",
     "text": [
      "From AGOL\n"
     ]
    },
    {
     "data": {
      "application/vnd.jupyter.widget-view+json": {
       "model_id": "a9abd706e2304b949bbd6670744c32d2",
       "version_major": 2,
       "version_minor": 0
      },
      "text/plain": [
       "MapView(layout=Layout(height='400px', width='100%'), legend=True)"
      ]
     },
     "metadata": {},
     "output_type": "display_data"
    },
    {
     "data": {
      "text/html": [
       "<div class=\"map-static-img-preview-c5f55073-c6e2-4fa0-9bd1-b56af6cc06dc\"><img src=\"\"></img></div>"
      ],
      "text/plain": [
       "<IPython.core.display.HTML object>"
      ]
     },
     "metadata": {},
     "output_type": "display_data"
    },
    {
     "data": {
      "text/html": [
       "<div class=\"map-html-embed-preview-c5f55073-c6e2-4fa0-9bd1-b56af6cc06dc\"></div>"
      ],
      "text/plain": [
       "<IPython.core.display.HTML object>"
      ]
     },
     "metadata": {},
     "output_type": "display_data"
    }
   ],
   "source": [
    "# Heatmap of Addiction Clinics data\n",
    "try:\n",
    "    clinic_clusters = agol.content.get(\"45f06f6861b24df8aa9acb1d34df2006\")\n",
    "    print('From AGOL')\n",
    "    \n",
    "except:\n",
    "    clinic_clusters = arcgis.features.analysis.find_point_clusters(clinics_fl,\n",
    "                              min_features_cluster=5,\n",
    "                              output_name='find_addiction_clinic_clusters_2',gis=agol)\n",
    "    print('To AGOL')\n",
    "    \n",
    "map_clinic_clusters = agol.map('Mesa')\n",
    "map_clinic_clusters.add_layer(clinic_clusters)\n",
    "map_clinic_clusters.legend= True\n",
    "map_clinic_clusters"
   ]
  },
  {
   "cell_type": "markdown",
   "id": "abf49a42",
   "metadata": {},
   "source": [
    "**TODO: (Marco)**"
   ]
  },
  {
   "cell_type": "code",
   "execution_count": 20,
   "id": "0de81124",
   "metadata": {},
   "outputs": [
    {
     "name": "stdout",
     "output_type": "stream",
     "text": [
      "From AGOL\n"
     ]
    },
    {
     "data": {
      "application/vnd.jupyter.widget-view+json": {
       "model_id": "22b2ab50eb714cefb3191473c1be7d46",
       "version_major": 2,
       "version_minor": 0
      },
      "text/plain": [
       "MapView(layout=Layout(height='400px', width='100%'), legend=True)"
      ]
     },
     "metadata": {},
     "output_type": "display_data"
    },
    {
     "data": {
      "text/html": [
       "<div class=\"map-static-img-preview-695b4d46-187d-46c5-93aa-72b934ac7b66\"><img src=\"\"></img></div>"
      ],
      "text/plain": [
       "<IPython.core.display.HTML object>"
      ]
     },
     "metadata": {},
     "output_type": "display_data"
    },
    {
     "data": {
      "text/html": [
       "<div class=\"map-html-embed-preview-695b4d46-187d-46c5-93aa-72b934ac7b66\"></div>"
      ],
      "text/plain": [
       "<IPython.core.display.HTML object>"
      ]
     },
     "metadata": {},
     "output_type": "display_data"
    }
   ],
   "source": [
    "# Heatmap of Fire + EMS Station Data\n",
    "try:\n",
    "    ems_fire_clusters = agol.content.get(\"344cf9fa1cfe4d6682ebc874b0c61bd8\")\n",
    "    print('From AGOL')\n",
    "    \n",
    "except:\n",
    "    ems_fire_clusters = arcgis.features.analysis.find_point_clusters(ems_fire_fl,\n",
    "                              min_features_cluster=3,\n",
    "                              output_name='find_ems_fire_clusters',gis=agol)\n",
    "    print('To AGOL')\n",
    "    \n",
    "map_ems_clusters = agol.map('Mesa')\n",
    "map_ems_clusters.add_layer(ems_fire_clusters)\n",
    "map_ems_clusters.legend= True\n",
    "map_ems_clusters"
   ]
  },
  {
   "cell_type": "markdown",
   "id": "f83ca04f",
   "metadata": {},
   "source": [
    "**TODO: (Marco) is this the map that we wanted?**<br>\n",
    "For this map, we computed clusters for the Fire/EMS Data and visualized the results."
   ]
  },
  {
   "cell_type": "code",
   "execution_count": 21,
   "id": "feee50de",
   "metadata": {},
   "outputs": [
    {
     "data": {
      "text/plain": [
       "<AxesSubplot:>"
      ]
     },
     "execution_count": 21,
     "metadata": {},
     "output_type": "execute_result"
    },
    {
     "data": {
      "image/png": "[encoded data removed]",
      "text/plain": [
       "<Figure size 432x288 with 1 Axes>"
      ]
     },
     "metadata": {
      "needs_background": "light"
     },
     "output_type": "display_data"
    }
   ],
   "source": [
    "od_sdf.Incident_Disposition.value_counts()[:8].plot.barh()"
   ]
  },
  {
   "cell_type": "markdown",
   "id": "290d8eb8",
   "metadata": {},
   "source": [
    "**TODO: (Marco)**"
   ]
  },
  {
   "cell_type": "code",
   "execution_count": 22,
   "id": "4354862f",
   "metadata": {},
   "outputs": [
    {
     "data": {
      "image/png": "[encoded data removed]",
      "text/plain": [
       "<Figure size 432x288 with 1 Axes>"
      ]
     },
     "metadata": {
      "needs_background": "light"
     },
     "output_type": "display_data"
    }
   ],
   "source": [
    "times = (od_sdf.Incident_Date.dt.time)\n",
    "hours = []\n",
    "hours = [i.hour for i in times]\n",
    "plt.hist(hours, bins = 24)\n",
    "plt.show()"
   ]
  },
  {
   "cell_type": "markdown",
   "id": "fdc05179",
   "metadata": {},
   "source": [
    "From this histogram we can see the distribution of the number of overdose cases reported by the hour of day. Even though we did not use temporal analysis for this project, we found it interesting that most of the overdose cases occur either very early in the morning or late at night. This plot could be used to inspire a future research direction."
   ]
  },
  {
   "cell_type": "markdown",
   "id": "695a1b33",
   "metadata": {},
   "source": [
    "## 9. Analysis (25pt) <a class=\"anchor\" id=\"sect9\"></a>\n",
    "<div class=\"alert alert-block alert-info\">\n",
    "<b>Instructions:</b><br> Provide a general outline of your analysis (in a markdown), and then document it step by step\n",
    "as you code the solution. Please make sure that we can reproduce your analysis by running\n",
    "your notebook. As before, a diagram describing your workflow would be helpful.<br><br>\n",
    "Please also reflect on how your actual analysis steps were different compared to your project\n",
    "proposal - or state that you didn’t deviate from the initial plan.<br><br>\n",
    "(a combination of markdown and documented code cells)<br><br>\n",
    "(at least 500 words)\n",
    "</div>"
   ]
  },
  {
   "cell_type": "markdown",
   "id": "66b427f1",
   "metadata": {},
   "source": [
    "<div class=\"alert alert-block alert-warning\">\n",
    "<b>Diagram of Analysis:</b><br><br>\n",
    "For the analysis tasks, we created service areas by drive times for both the Addiction Treatment Clinics and the Fire + EMS Stations in Mesa, AZ. In addition, we aggregated the Overdose Case Points by Service area, and computed the proportion of DOA overdose cases by Service Area. Moreover, using DOA overdose case locations as the demand, we performed location-allocation analysis to identify 3 candidate locations for both new Addiction Treatment Clinics and the Fire + EMS Stations in Mesa, AZ. Lastly, we merged the new candidate locations with the original Addiction Treatment Clinics and the Fire + EMS Stations and reconstructed the service areas by drive times. Thus, in the Summaries Section, we are able to compare the change in the service areas as a result of adding the 3 new candidate locations. We did not deviate from our initial plan for the analysis section.\n",
    "    \n",
    "- <b>9.1: Service Areas by Drive Time</b>: Use the example provided in this link (https://developers.arcgis.com/python/samples/drive-time-analysis-for-opioid-epidemic/) to create drive time service areas. The break values for the service areas will be [5, 10, 15, 20, 30, and 45 minutes].\n",
    "    - <b>9.1A: Addiction Treatment Facilities Service Areas by Drive Time</b>\n",
    "        - Step 1: Get the Feature Layer for the Addiction Treatment Clinics in Mesa, AZ (Done in Data Cleaning Section)\n",
    "        - Step 2: Generate areas served based on the time it takes to drive towards the Addiction Treatment Clinics (create_drive_time_areas). This simulates overdose patients driving to the addiction treatment clinics for medical treatment.\n",
    "        - Step 3: Map it!\n",
    "        - Step 4: Aggregate the Overdose Point Feature Layer by the Addiction Treatment Clinic's Service Areas Feature Layer (aggregate_points). Compute mean of binary Dead-On-Arrival (DOA) column for overdose cases within each Service Area. The mean of this binary column tells us the proportion of overdose cases within each service area that resulted in DOA. \n",
    "    - <b>9.1B: Fire + EMS Station Service Areas by Truck Time</b>\n",
    "        - Step 1: Get the Feature Layer for the Fire + EMS Stations in Mesa, AZ (Done in Data Cleaning Section)\n",
    "        - Step 2: Generate areas served based on the time it takes to drive a truck away from the Fire + EMS Stations (create_drive_time_areas). This simulates the travel of emergency vehicles that first responders use. \n",
    "        - Step 3: Map it!\n",
    "        - Step 4: Aggregate the Overdose Point Feature Layer by the Fire + EMS Station's Service Areas Feature Layer (aggregate_points). Compute mean of binary Dead-On-Arrival (DOA) column for overdose cases within each Service Area. The mean of this binary column tells us the proportion of overdose cases within each service area that resulted in DOA. \n",
    "- <b>9.2: Location-Allocation Analysis</b>\n",
    "- <b>9.3: Service Areas by Drive Time with Candidate Locations</b>\n",
    "    - <b>9.3A: Addiction Treatment Facilities Service Areas by Drive Time with Candidate Locations</b>\n",
    "        - Step 1: Get the feature layer of the 3 Chosen Candidate Addiction Treatment Clinics (from 9.2: Location-Allocation Analysis) \n",
    "        - Step 2: Merge the 3 Candidate Clinics feature layer with the already existing Addiction Treatment Clinics feature layer\n",
    "        - Step 3: Repeat Steps 1-4 in Section 9.1A but using the merged Addiction Clinic feature layer\n",
    "    - <b>9.3B: Fire + EMS Station Service Areas by Truck Time with Candidate Locations</b>\n",
    "        - Step 1: Get the feature layer of the 3 Chosen Candidate Fire + EMS Stations (from 9.2: Location-Allocation Analysis) \n",
    "        - Step 2: Merge the 3 Candidate Stations feature layer with the already existing Fire + EMS Stations feature layer\n",
    "        - Step 3: Repeat Steps 1-4 in Section 9.1A but using the merged Fire + EMS stations feature layer\n",
    "</div>"
   ]
  },
  {
   "cell_type": "markdown",
   "id": "3c2380ab",
   "metadata": {},
   "source": [
    "### 9.1: Service Areas by Drive Time <a class=\"anchor\" id=\"sect_9_1\"></a>"
   ]
  },
  {
   "cell_type": "markdown",
   "id": "fcdea0b2",
   "metadata": {
    "heading_collapsed": true
   },
   "source": [
    "#### 9.1A: Addiction Treatment Facilities Service Areas by Drive Time (5, 10, 15, 20, 30, 45 mins) <a class=\"anchor\" id=\"sect_9_1A\"></a>"
   ]
  },
  {
   "cell_type": "markdown",
   "id": "4abb8681",
   "metadata": {
    "hidden": true
   },
   "source": [
    "Step 1: Already completed in data cleaning section<br>\n",
    "Step 2: Use the create_drive_time_areas function from the Features Use_Proximity Module in ArcGIS\n",
    "- Takes in addiction clinics feature layer as input, along with the breaks in minutes, and outputs a feature layer with areas\n",
    "- We converted the output feature layer as an SEDF in the cell below"
   ]
  },
  {
   "cell_type": "code",
   "execution_count": 23,
   "id": "269f17f0",
   "metadata": {
    "hidden": true
   },
   "outputs": [
    {
     "name": "stdout",
     "output_type": "stream",
     "text": [
      "From AGOL\n"
     ]
    },
    {
     "data": {
      "text/html": [
       "<div>\n",
       "<style scoped>\n",
       "    .dataframe tbody tr th:only-of-type {\n",
       "        vertical-align: middle;\n",
       "    }\n",
       "\n",
       "    .dataframe tbody tr th {\n",
       "        vertical-align: top;\n",
       "    }\n",
       "\n",
       "    .dataframe thead th {\n",
       "        text-align: right;\n",
       "    }\n",
       "</style>\n",
       "<table border=\"1\" class=\"dataframe\">\n",
       "  <thead>\n",
       "    <tr style=\"text-align: right;\">\n",
       "      <th></th>\n",
       "      <th>OBJECTID</th>\n",
       "      <th>Name</th>\n",
       "      <th>FromBreak</th>\n",
       "      <th>ToBreak</th>\n",
       "      <th>FacilityOID</th>\n",
       "      <th>AnalysisArea</th>\n",
       "      <th>SHAPE</th>\n",
       "    </tr>\n",
       "  </thead>\n",
       "  <tbody>\n",
       "    <tr>\n",
       "      <th>0</th>\n",
       "      <td>1</td>\n",
       "      <td>30 - 45</td>\n",
       "      <td>30</td>\n",
       "      <td>45</td>\n",
       "      <td>None</td>\n",
       "      <td>1892.150227</td>\n",
       "      <td>{\"rings\": [[[-110.926383176, 32.5150182180001]...</td>\n",
       "    </tr>\n",
       "    <tr>\n",
       "      <th>1</th>\n",
       "      <td>2</td>\n",
       "      <td>20 - 30</td>\n",
       "      <td>20</td>\n",
       "      <td>30</td>\n",
       "      <td>None</td>\n",
       "      <td>1449.301705</td>\n",
       "      <td>{\"rings\": [[[-113.124326044, 33.9152607620001]...</td>\n",
       "    </tr>\n",
       "    <tr>\n",
       "      <th>2</th>\n",
       "      <td>3</td>\n",
       "      <td>15 - 20</td>\n",
       "      <td>15</td>\n",
       "      <td>20</td>\n",
       "      <td>None</td>\n",
       "      <td>696.582794</td>\n",
       "      <td>{\"rings\": [[[-111.551383176, 32.6681802730001]...</td>\n",
       "    </tr>\n",
       "    <tr>\n",
       "      <th>3</th>\n",
       "      <td>4</td>\n",
       "      <td>10 - 15</td>\n",
       "      <td>10</td>\n",
       "      <td>15</td>\n",
       "      <td>None</td>\n",
       "      <td>711.287731</td>\n",
       "      <td>{\"rings\": [[[-111.912953424, 33.21817129], [-1...</td>\n",
       "    </tr>\n",
       "    <tr>\n",
       "      <th>4</th>\n",
       "      <td>5</td>\n",
       "      <td>5 - 10</td>\n",
       "      <td>5</td>\n",
       "      <td>10</td>\n",
       "      <td>None</td>\n",
       "      <td>714.892474</td>\n",
       "      <td>{\"rings\": [[[-112.374909946, 33.5503218470001]...</td>\n",
       "    </tr>\n",
       "    <tr>\n",
       "      <th>5</th>\n",
       "      <td>6</td>\n",
       "      <td>0 - 5</td>\n",
       "      <td>0</td>\n",
       "      <td>5</td>\n",
       "      <td>None</td>\n",
       "      <td>452.456418</td>\n",
       "      <td>{\"rings\": [[[-111.912728847, 33.632517319], [-...</td>\n",
       "    </tr>\n",
       "  </tbody>\n",
       "</table>\n",
       "</div>"
      ],
      "text/plain": [
       "   OBJECTID     Name  FromBreak  ToBreak FacilityOID  AnalysisArea  \\\n",
       "0         1  30 - 45         30       45        None   1892.150227   \n",
       "1         2  20 - 30         20       30        None   1449.301705   \n",
       "2         3  15 - 20         15       20        None    696.582794   \n",
       "3         4  10 - 15         10       15        None    711.287731   \n",
       "4         5   5 - 10          5       10        None    714.892474   \n",
       "5         6    0 - 5          0        5        None    452.456418   \n",
       "\n",
       "                                               SHAPE  \n",
       "0  {\"rings\": [[[-110.926383176, 32.5150182180001]...  \n",
       "1  {\"rings\": [[[-113.124326044, 33.9152607620001]...  \n",
       "2  {\"rings\": [[[-111.551383176, 32.6681802730001]...  \n",
       "3  {\"rings\": [[[-111.912953424, 33.21817129], [-1...  \n",
       "4  {\"rings\": [[[-112.374909946, 33.5503218470001]...  \n",
       "5  {\"rings\": [[[-111.912728847, 33.632517319], [-...  "
      ]
     },
     "execution_count": 23,
     "metadata": {},
     "output_type": "execute_result"
    }
   ],
   "source": [
    "try:\n",
    "    drive_times_clinics = agol.content.get(\"afbea59feadf4132981b3fe8e73faf15\")\n",
    "    drive_times_clinics_fl = drive_times_clinics.layers[0]\n",
    "    print('From AGOL')\n",
    "    \n",
    "except:\n",
    "    drive_times_clinics_fl = create_drive_time_areas(clinics_fl, \n",
    "                                            break_values = [5,10,15,20,30,45],\n",
    "                                            break_units = 'Minutes',\n",
    "                                            travel_mode = 'Driving Time',\n",
    "                                            travel_direction = 'TowardsFacility',\n",
    "                                            output_name='DriveTimeToClinics',\n",
    "                                            overlap_policy='Dissolve')\n",
    "    print('To AGOL')\n",
    "    \n",
    "drive_times_clinics_sdf = drive_times_clinics_fl.query().sdf\n",
    "drive_times_clinics_sdf"
   ]
  },
  {
   "cell_type": "markdown",
   "id": "26066ae7",
   "metadata": {
    "hidden": true
   },
   "source": [
    "Step 3: Mapping the Result. This map is interpretted in the Summaries section below."
   ]
  },
  {
   "cell_type": "code",
   "execution_count": 24,
   "id": "f95b693f",
   "metadata": {
    "hidden": true,
    "scrolled": false
   },
   "outputs": [
    {
     "data": {
      "application/vnd.jupyter.widget-view+json": {
       "model_id": "b0351f0ccfae49e7be815513fe802dc1",
       "version_major": 2,
       "version_minor": 0
      },
      "text/plain": [
       "MapView(layout=Layout(height='400px', width='100%'))"
      ]
     },
     "metadata": {},
     "output_type": "display_data"
    },
    {
     "data": {
      "text/html": [
       "<div class=\"map-static-img-preview-a3e04c56-71c1-44e0-a49e-ab30dafb697c\"><img src=\"\"></img></div>"
      ],
      "text/plain": [
       "<IPython.core.display.HTML object>"
      ]
     },
     "metadata": {},
     "output_type": "display_data"
    },
    {
     "data": {
      "text/html": [
       "<div class=\"map-html-embed-preview-a3e04c56-71c1-44e0-a49e-ab30dafb697c\"></div>"
      ],
      "text/plain": [
       "<IPython.core.display.HTML object>"
      ]
     },
     "metadata": {},
     "output_type": "display_data"
    }
   ],
   "source": [
    "map_drive_time_clinics = agol.map('Mesa')\n",
    "map_drive_time_clinics.add_layer(drive_times_clinics_fl)\n",
    "map_drive_time_clinics.add_layer(od_fl)\n",
    "map_drive_time_clinics"
   ]
  },
  {
   "cell_type": "markdown",
   "id": "e3c8d643",
   "metadata": {
    "hidden": true
   },
   "source": [
    "Step 4: aggregating all of the overdose points by each service area for addiction clinics. Compute the mean of the binary DOA column to give a percent for each service area. See the table below for the result. Interpretted in the Summaries section below."
   ]
  },
  {
   "cell_type": "code",
   "execution_count": 25,
   "id": "75597afe",
   "metadata": {
    "hidden": true
   },
   "outputs": [
    {
     "name": "stdout",
     "output_type": "stream",
     "text": [
      "From AGOL\n"
     ]
    },
    {
     "data": {
      "text/html": [
       "<div>\n",
       "<style scoped>\n",
       "    .dataframe tbody tr th:only-of-type {\n",
       "        vertical-align: middle;\n",
       "    }\n",
       "\n",
       "    .dataframe tbody tr th {\n",
       "        vertical-align: top;\n",
       "    }\n",
       "\n",
       "    .dataframe thead th {\n",
       "        text-align: right;\n",
       "    }\n",
       "</style>\n",
       "<table border=\"1\" class=\"dataframe\">\n",
       "  <thead>\n",
       "    <tr style=\"text-align: right;\">\n",
       "      <th></th>\n",
       "      <th>OBJECTID</th>\n",
       "      <th>Name</th>\n",
       "      <th>FromBreak</th>\n",
       "      <th>ToBreak</th>\n",
       "      <th>FacilityOID</th>\n",
       "      <th>AnalysisArea</th>\n",
       "      <th>mean_DOA</th>\n",
       "      <th>std_DOA</th>\n",
       "      <th>sum_DOA</th>\n",
       "      <th>Point_Count</th>\n",
       "      <th>SHAPE</th>\n",
       "    </tr>\n",
       "  </thead>\n",
       "  <tbody>\n",
       "    <tr>\n",
       "      <th>0</th>\n",
       "      <td>1</td>\n",
       "      <td>30 - 45</td>\n",
       "      <td>30</td>\n",
       "      <td>45</td>\n",
       "      <td>None</td>\n",
       "      <td>1892.150227</td>\n",
       "      <td>NaN</td>\n",
       "      <td>NaN</td>\n",
       "      <td>0</td>\n",
       "      <td>0</td>\n",
       "      <td>{\"rings\": [[[-110.926383176, 32.5150182180001]...</td>\n",
       "    </tr>\n",
       "    <tr>\n",
       "      <th>1</th>\n",
       "      <td>2</td>\n",
       "      <td>20 - 30</td>\n",
       "      <td>20</td>\n",
       "      <td>30</td>\n",
       "      <td>None</td>\n",
       "      <td>1449.301705</td>\n",
       "      <td>NaN</td>\n",
       "      <td>NaN</td>\n",
       "      <td>0</td>\n",
       "      <td>0</td>\n",
       "      <td>{\"rings\": [[[-113.124326044, 33.9152607620001]...</td>\n",
       "    </tr>\n",
       "    <tr>\n",
       "      <th>2</th>\n",
       "      <td>3</td>\n",
       "      <td>15 - 20</td>\n",
       "      <td>15</td>\n",
       "      <td>20</td>\n",
       "      <td>None</td>\n",
       "      <td>696.582794</td>\n",
       "      <td>0.514286</td>\n",
       "      <td>0.507093</td>\n",
       "      <td>18</td>\n",
       "      <td>35</td>\n",
       "      <td>{\"rings\": [[[-111.551383176, 32.6681802730001]...</td>\n",
       "    </tr>\n",
       "    <tr>\n",
       "      <th>3</th>\n",
       "      <td>4</td>\n",
       "      <td>10 - 15</td>\n",
       "      <td>10</td>\n",
       "      <td>15</td>\n",
       "      <td>None</td>\n",
       "      <td>711.287731</td>\n",
       "      <td>0.435540</td>\n",
       "      <td>0.496694</td>\n",
       "      <td>125</td>\n",
       "      <td>287</td>\n",
       "      <td>{\"rings\": [[[-111.912953424, 33.21817129], [-1...</td>\n",
       "    </tr>\n",
       "    <tr>\n",
       "      <th>4</th>\n",
       "      <td>5</td>\n",
       "      <td>5 - 10</td>\n",
       "      <td>5</td>\n",
       "      <td>10</td>\n",
       "      <td>None</td>\n",
       "      <td>714.892474</td>\n",
       "      <td>0.449446</td>\n",
       "      <td>0.497600</td>\n",
       "      <td>689</td>\n",
       "      <td>1533</td>\n",
       "      <td>{\"rings\": [[[-112.374909946, 33.5503218470001]...</td>\n",
       "    </tr>\n",
       "    <tr>\n",
       "      <th>5</th>\n",
       "      <td>6</td>\n",
       "      <td>0 - 5</td>\n",
       "      <td>0</td>\n",
       "      <td>5</td>\n",
       "      <td>None</td>\n",
       "      <td>452.456418</td>\n",
       "      <td>0.322623</td>\n",
       "      <td>0.467518</td>\n",
       "      <td>1968</td>\n",
       "      <td>6100</td>\n",
       "      <td>{\"rings\": [[[-111.913851736, 33.6327418970001]...</td>\n",
       "    </tr>\n",
       "  </tbody>\n",
       "</table>\n",
       "</div>"
      ],
      "text/plain": [
       "   OBJECTID     Name  FromBreak  ToBreak FacilityOID  AnalysisArea  mean_DOA  \\\n",
       "0         1  30 - 45         30       45        None   1892.150227       NaN   \n",
       "1         2  20 - 30         20       30        None   1449.301705       NaN   \n",
       "2         3  15 - 20         15       20        None    696.582794  0.514286   \n",
       "3         4  10 - 15         10       15        None    711.287731  0.435540   \n",
       "4         5   5 - 10          5       10        None    714.892474  0.449446   \n",
       "5         6    0 - 5          0        5        None    452.456418  0.322623   \n",
       "\n",
       "    std_DOA  sum_DOA  Point_Count  \\\n",
       "0       NaN        0            0   \n",
       "1       NaN        0            0   \n",
       "2  0.507093       18           35   \n",
       "3  0.496694      125          287   \n",
       "4  0.497600      689         1533   \n",
       "5  0.467518     1968         6100   \n",
       "\n",
       "                                               SHAPE  \n",
       "0  {\"rings\": [[[-110.926383176, 32.5150182180001]...  \n",
       "1  {\"rings\": [[[-113.124326044, 33.9152607620001]...  \n",
       "2  {\"rings\": [[[-111.551383176, 32.6681802730001]...  \n",
       "3  {\"rings\": [[[-111.912953424, 33.21817129], [-1...  \n",
       "4  {\"rings\": [[[-112.374909946, 33.5503218470001]...  \n",
       "5  {\"rings\": [[[-111.913851736, 33.6327418970001]...  "
      ]
     },
     "execution_count": 25,
     "metadata": {},
     "output_type": "execute_result"
    }
   ],
   "source": [
    "try:\n",
    "    # Title: Agg_OD_DriveTimeClinics | Type: Feature Service | Owner: dsc170wi23_9\n",
    "    agg_od_clinics = agol.content.get('f642121025ab4c13a1124514fd056f34')\n",
    "    print('From AGOL')\n",
    "    \n",
    "except:\n",
    "    agg_od_clinics = features.summarize_data.aggregate_points(point_layer=od_fl,\n",
    "                                                            polygon_layer=drive_times_clinics_fl,\n",
    "                                                            summary_fields=['DOA mean', 'DOA stddev', 'DOA sum'],\n",
    "                                                            output_name='Agg_OD_DriveTimeClinics'\n",
    "                                                           )\n",
    "    print('To AGOL')\n",
    "    \n",
    "agg_od_clinics_fl = agg_od_clinics.layers[0]\n",
    "agg_od_clinics_sdf = agg_od_clinics_fl.query().sdf\n",
    "agg_od_clinics_sdf"
   ]
  },
  {
   "cell_type": "markdown",
   "id": "d1e70f3b",
   "metadata": {
    "heading_collapsed": true
   },
   "source": [
    "#### 9.1B: Fire + EMS Station Service Areas by Truck Time (5, 10, 15, 20, 30, 45 mins) <a class=\"anchor\" id=\"sect_9_1B\"></a>"
   ]
  },
  {
   "cell_type": "markdown",
   "id": "98c395ce",
   "metadata": {
    "hidden": true
   },
   "source": [
    "Step 1: Already completed in data cleaning section<br>\n",
    "Step 2: Use the create_drive_time_areas function from the Features Use_Proximity Module in ArcGIS\n",
    "- Takes in Fire + EMS Stations feature layer as input, along with the breaks in minutes, and outputs a feature layer with service areas\n",
    "- We converted the output feature layer as an SEDF in the cell below"
   ]
  },
  {
   "cell_type": "code",
   "execution_count": 26,
   "id": "358b4b2c",
   "metadata": {
    "hidden": true
   },
   "outputs": [
    {
     "name": "stdout",
     "output_type": "stream",
     "text": [
      "From AGOL\n"
     ]
    },
    {
     "data": {
      "text/html": [
       "<div>\n",
       "<style scoped>\n",
       "    .dataframe tbody tr th:only-of-type {\n",
       "        vertical-align: middle;\n",
       "    }\n",
       "\n",
       "    .dataframe tbody tr th {\n",
       "        vertical-align: top;\n",
       "    }\n",
       "\n",
       "    .dataframe thead th {\n",
       "        text-align: right;\n",
       "    }\n",
       "</style>\n",
       "<table border=\"1\" class=\"dataframe\">\n",
       "  <thead>\n",
       "    <tr style=\"text-align: right;\">\n",
       "      <th></th>\n",
       "      <th>OBJECTID</th>\n",
       "      <th>Name</th>\n",
       "      <th>FromBreak</th>\n",
       "      <th>ToBreak</th>\n",
       "      <th>FacilityOID</th>\n",
       "      <th>AnalysisArea</th>\n",
       "      <th>SHAPE</th>\n",
       "    </tr>\n",
       "  </thead>\n",
       "  <tbody>\n",
       "    <tr>\n",
       "      <th>0</th>\n",
       "      <td>1</td>\n",
       "      <td>30 - 45</td>\n",
       "      <td>30</td>\n",
       "      <td>45</td>\n",
       "      <td>None</td>\n",
       "      <td>1818.702395</td>\n",
       "      <td>{\"rings\": [[[-12417843.1724, 3849531.3909], [-...</td>\n",
       "    </tr>\n",
       "    <tr>\n",
       "      <th>1</th>\n",
       "      <td>2</td>\n",
       "      <td>20 - 30</td>\n",
       "      <td>20</td>\n",
       "      <td>30</td>\n",
       "      <td>None</td>\n",
       "      <td>663.440603</td>\n",
       "      <td>{\"rings\": [[[-12482567.8764, 4023727.2056], [-...</td>\n",
       "    </tr>\n",
       "    <tr>\n",
       "      <th>2</th>\n",
       "      <td>3</td>\n",
       "      <td>15 - 20</td>\n",
       "      <td>15</td>\n",
       "      <td>20</td>\n",
       "      <td>None</td>\n",
       "      <td>325.269566</td>\n",
       "      <td>{\"rings\": [[[-12501467.79, 3976561.96], [-1250...</td>\n",
       "    </tr>\n",
       "    <tr>\n",
       "      <th>3</th>\n",
       "      <td>4</td>\n",
       "      <td>10 - 15</td>\n",
       "      <td>10</td>\n",
       "      <td>15</td>\n",
       "      <td>None</td>\n",
       "      <td>260.758138</td>\n",
       "      <td>{\"rings\": [[[-12480767.8846, 3989987.9245], [-...</td>\n",
       "    </tr>\n",
       "    <tr>\n",
       "      <th>4</th>\n",
       "      <td>5</td>\n",
       "      <td>5 - 10</td>\n",
       "      <td>5</td>\n",
       "      <td>10</td>\n",
       "      <td>None</td>\n",
       "      <td>319.751956</td>\n",
       "      <td>{\"rings\": [[[-12501742.7887, 3960813.1574], [-...</td>\n",
       "    </tr>\n",
       "    <tr>\n",
       "      <th>5</th>\n",
       "      <td>6</td>\n",
       "      <td>0 - 5</td>\n",
       "      <td>0</td>\n",
       "      <td>5</td>\n",
       "      <td>None</td>\n",
       "      <td>562.158450</td>\n",
       "      <td>{\"rings\": [[[-12476942.9022, 3934223.8948], [-...</td>\n",
       "    </tr>\n",
       "  </tbody>\n",
       "</table>\n",
       "</div>"
      ],
      "text/plain": [
       "   OBJECTID     Name  FromBreak  ToBreak FacilityOID  AnalysisArea  \\\n",
       "0         1  30 - 45         30       45        None   1818.702395   \n",
       "1         2  20 - 30         20       30        None    663.440603   \n",
       "2         3  15 - 20         15       20        None    325.269566   \n",
       "3         4  10 - 15         10       15        None    260.758138   \n",
       "4         5   5 - 10          5       10        None    319.751956   \n",
       "5         6    0 - 5          0        5        None    562.158450   \n",
       "\n",
       "                                               SHAPE  \n",
       "0  {\"rings\": [[[-12417843.1724, 3849531.3909], [-...  \n",
       "1  {\"rings\": [[[-12482567.8764, 4023727.2056], [-...  \n",
       "2  {\"rings\": [[[-12501467.79, 3976561.96], [-1250...  \n",
       "3  {\"rings\": [[[-12480767.8846, 3989987.9245], [-...  \n",
       "4  {\"rings\": [[[-12501742.7887, 3960813.1574], [-...  \n",
       "5  {\"rings\": [[[-12476942.9022, 3934223.8948], [-...  "
      ]
     },
     "execution_count": 26,
     "metadata": {},
     "output_type": "execute_result"
    }
   ],
   "source": [
    "try:\n",
    "    # Title: TruckTimeFromStations | Type: Feature Service | Owner: dsc170wi23_9\n",
    "    truck_times_ems = agol.content.get(\"a23d067ffb2e425ea429a8e1ed76f70d\")\n",
    "    print('From AGOL')\n",
    "    \n",
    "except:\n",
    "    truck_times_ems = create_drive_time_areas(ems_fl, \n",
    "                                            break_values = [5,10,15,20,30,45],\n",
    "                                            break_units = 'Minutes',\n",
    "                                            travel_mode = 'Trucking Time',\n",
    "                                            travel_direction = 'AwayFromFacility',\n",
    "                                            output_name='TruckTimeFromStations',\n",
    "                                            overlap_policy='Dissolve')\n",
    "    print('To AGOL')\n",
    "    \n",
    "truck_times_ems_fl = truck_times_ems.layers[0]\n",
    "truck_times_ems_sdf = truck_times_ems_fl.query().sdf\n",
    "truck_times_ems_sdf"
   ]
  },
  {
   "cell_type": "markdown",
   "id": "0e6ad8ca",
   "metadata": {
    "hidden": true
   },
   "source": [
    "Step 3: Mapping the Result. This map is interpretted in the Summaries section below."
   ]
  },
  {
   "cell_type": "code",
   "execution_count": 27,
   "id": "d31a74c9",
   "metadata": {
    "hidden": true
   },
   "outputs": [
    {
     "data": {
      "application/vnd.jupyter.widget-view+json": {
       "model_id": "4d075709ed864886ac1ffddac0e17786",
       "version_major": 2,
       "version_minor": 0
      },
      "text/plain": [
       "MapView(layout=Layout(height='400px', width='100%'))"
      ]
     },
     "metadata": {},
     "output_type": "display_data"
    },
    {
     "data": {
      "text/html": [
       "<div class=\"map-static-img-preview-e96b913b-34da-4ff1-bf11-74783de9454d\"><img src=\"\"></img></div>"
      ],
      "text/plain": [
       "<IPython.core.display.HTML object>"
      ]
     },
     "metadata": {},
     "output_type": "display_data"
    },
    {
     "data": {
      "text/html": [
       "<div class=\"map-html-embed-preview-e96b913b-34da-4ff1-bf11-74783de9454d\"></div>"
      ],
      "text/plain": [
       "<IPython.core.display.HTML object>"
      ]
     },
     "metadata": {},
     "output_type": "display_data"
    }
   ],
   "source": [
    "map_truck_time_ems = agol.map('Mesa')\n",
    "map_truck_time_ems.add_layer(truck_times_ems_fl)\n",
    "map_truck_time_ems.add_layer(od_fl)\n",
    "map_truck_time_ems"
   ]
  },
  {
   "cell_type": "markdown",
   "id": "7b64186d",
   "metadata": {
    "hidden": true
   },
   "source": [
    "Step 4: aggregating all of the overdose points by each service area for Fire + EMS Stations. Compute the mean of the binary DOA column to give a percent for each service area. See the table below for the result. Interpretted in the Summaries section below."
   ]
  },
  {
   "cell_type": "code",
   "execution_count": 28,
   "id": "7cd3f396",
   "metadata": {
    "hidden": true
   },
   "outputs": [
    {
     "name": "stdout",
     "output_type": "stream",
     "text": [
      "From AGOL\n"
     ]
    },
    {
     "data": {
      "text/html": [
       "<div>\n",
       "<style scoped>\n",
       "    .dataframe tbody tr th:only-of-type {\n",
       "        vertical-align: middle;\n",
       "    }\n",
       "\n",
       "    .dataframe tbody tr th {\n",
       "        vertical-align: top;\n",
       "    }\n",
       "\n",
       "    .dataframe thead th {\n",
       "        text-align: right;\n",
       "    }\n",
       "</style>\n",
       "<table border=\"1\" class=\"dataframe\">\n",
       "  <thead>\n",
       "    <tr style=\"text-align: right;\">\n",
       "      <th></th>\n",
       "      <th>OBJECTID</th>\n",
       "      <th>Name</th>\n",
       "      <th>FromBreak</th>\n",
       "      <th>ToBreak</th>\n",
       "      <th>FacilityOID</th>\n",
       "      <th>AnalysisArea</th>\n",
       "      <th>mean_DOA</th>\n",
       "      <th>sum_DOA</th>\n",
       "      <th>Point_Count</th>\n",
       "      <th>SHAPE</th>\n",
       "    </tr>\n",
       "  </thead>\n",
       "  <tbody>\n",
       "    <tr>\n",
       "      <th>0</th>\n",
       "      <td>1</td>\n",
       "      <td>30 - 45</td>\n",
       "      <td>30</td>\n",
       "      <td>45</td>\n",
       "      <td>None</td>\n",
       "      <td>1818.702395</td>\n",
       "      <td>NaN</td>\n",
       "      <td>0</td>\n",
       "      <td>0</td>\n",
       "      <td>{\"rings\": [[[-12417843.1724, 3849531.3909], [-...</td>\n",
       "    </tr>\n",
       "    <tr>\n",
       "      <th>1</th>\n",
       "      <td>2</td>\n",
       "      <td>20 - 30</td>\n",
       "      <td>20</td>\n",
       "      <td>30</td>\n",
       "      <td>None</td>\n",
       "      <td>663.440603</td>\n",
       "      <td>NaN</td>\n",
       "      <td>0</td>\n",
       "      <td>0</td>\n",
       "      <td>{\"rings\": [[[-12482567.8764, 4023727.2056], [-...</td>\n",
       "    </tr>\n",
       "    <tr>\n",
       "      <th>2</th>\n",
       "      <td>3</td>\n",
       "      <td>15 - 20</td>\n",
       "      <td>15</td>\n",
       "      <td>20</td>\n",
       "      <td>None</td>\n",
       "      <td>325.269566</td>\n",
       "      <td>NaN</td>\n",
       "      <td>0</td>\n",
       "      <td>0</td>\n",
       "      <td>{\"rings\": [[[-12501467.79, 3976561.96], [-1250...</td>\n",
       "    </tr>\n",
       "    <tr>\n",
       "      <th>3</th>\n",
       "      <td>4</td>\n",
       "      <td>10 - 15</td>\n",
       "      <td>10</td>\n",
       "      <td>15</td>\n",
       "      <td>None</td>\n",
       "      <td>260.758138</td>\n",
       "      <td>0.500000</td>\n",
       "      <td>1</td>\n",
       "      <td>2</td>\n",
       "      <td>{\"rings\": [[[-12480767.8846, 3989987.9245], [-...</td>\n",
       "    </tr>\n",
       "    <tr>\n",
       "      <th>4</th>\n",
       "      <td>5</td>\n",
       "      <td>5 - 10</td>\n",
       "      <td>5</td>\n",
       "      <td>10</td>\n",
       "      <td>None</td>\n",
       "      <td>319.751956</td>\n",
       "      <td>0.516484</td>\n",
       "      <td>141</td>\n",
       "      <td>273</td>\n",
       "      <td>{\"rings\": [[[-12501817.7884, 3960933.0673], [-...</td>\n",
       "    </tr>\n",
       "    <tr>\n",
       "      <th>5</th>\n",
       "      <td>6</td>\n",
       "      <td>0 - 5</td>\n",
       "      <td>0</td>\n",
       "      <td>5</td>\n",
       "      <td>None</td>\n",
       "      <td>562.158450</td>\n",
       "      <td>0.346094</td>\n",
       "      <td>2658</td>\n",
       "      <td>7680</td>\n",
       "      <td>{\"rings\": [[[-12478167.8966, 3934223.8948], [-...</td>\n",
       "    </tr>\n",
       "  </tbody>\n",
       "</table>\n",
       "</div>"
      ],
      "text/plain": [
       "   OBJECTID     Name  FromBreak  ToBreak FacilityOID  AnalysisArea  mean_DOA  \\\n",
       "0         1  30 - 45         30       45        None   1818.702395       NaN   \n",
       "1         2  20 - 30         20       30        None    663.440603       NaN   \n",
       "2         3  15 - 20         15       20        None    325.269566       NaN   \n",
       "3         4  10 - 15         10       15        None    260.758138  0.500000   \n",
       "4         5   5 - 10          5       10        None    319.751956  0.516484   \n",
       "5         6    0 - 5          0        5        None    562.158450  0.346094   \n",
       "\n",
       "   sum_DOA  Point_Count                                              SHAPE  \n",
       "0        0            0  {\"rings\": [[[-12417843.1724, 3849531.3909], [-...  \n",
       "1        0            0  {\"rings\": [[[-12482567.8764, 4023727.2056], [-...  \n",
       "2        0            0  {\"rings\": [[[-12501467.79, 3976561.96], [-1250...  \n",
       "3        1            2  {\"rings\": [[[-12480767.8846, 3989987.9245], [-...  \n",
       "4      141          273  {\"rings\": [[[-12501817.7884, 3960933.0673], [-...  \n",
       "5     2658         7680  {\"rings\": [[[-12478167.8966, 3934223.8948], [-...  "
      ]
     },
     "execution_count": 28,
     "metadata": {},
     "output_type": "execute_result"
    }
   ],
   "source": [
    "try:\n",
    "    # Title: Agg_OD_TruckTimeStations | Type: Feature Service | Owner: dsc170wi23_9\n",
    "    agg_od_ems = agol.content.get('0a926256e5c54dabbbf28ebba41524ff')\n",
    "    print('From AGOL')\n",
    "    \n",
    "except:\n",
    "    agg_od_ems = features.summarize_data.aggregate_points(point_layer=od_fl,\n",
    "                                                          polygon_layer=truck_times_ems_fl,\n",
    "                                                          summary_fields=['DOA mean', 'DOA sum'],\n",
    "                                                          output_name='Agg_OD_TruckTimeStations'\n",
    "                                                         )\n",
    "    print('To AGOL')\n",
    "    \n",
    "agg_od_ems_fl = agg_od_ems.layers[0]\n",
    "agg_od_ems_sdf = agg_od_ems_fl.query().sdf\n",
    "agg_od_ems_sdf"
   ]
  },
  {
   "cell_type": "markdown",
   "id": "188a0603",
   "metadata": {
    "heading_collapsed": true
   },
   "source": [
    "### 9.2: Location-Allocation on DOA Overdose Cases <a class=\"anchor\" id=\"sect_9_2\"></a>"
   ]
  },
  {
   "cell_type": "markdown",
   "id": "fe1d95c1",
   "metadata": {
    "hidden": true
   },
   "source": [
    "Now that we have the DOA-only cases, we can run the location-allocation function. We chose to perform the functions on ArcGIS Online Mapviewer. The necessary steps we took will be listed below. \n"
   ]
  },
  {
   "cell_type": "markdown",
   "id": "8e3ddb96",
   "metadata": {
    "hidden": true
   },
   "source": [
    "In order to perform the Location-Allocation function, we first had to prepare the **Demand Locations**, **Candidate** and **Required** points.\n",
    "\n",
    "\n",
    "1. The Demand Locations Layer should contain the points representing location that have demand for facilities. In this case, it'd be the Overdose cases. \n",
    "2. The Required Facilities points should contain the locations of facilities that already exist.\n",
    "3. The Candidate Facilities points should contain the locations of facilities that can represent the new facility locations.\n",
    "\n",
    "The required facilities are the existing Addiction Treatment Centers. However, for our candidate locations, we found the vacant properties in Mesa Arizona using an existing Mesa City Owned Property dataset."
   ]
  },
  {
   "cell_type": "markdown",
   "id": "bc803dfc",
   "metadata": {
    "hidden": true
   },
   "source": [
    "We went with the Minimize travel functions as time is crucial when a person overdoses. We are hoping to provide the best locations for services that take under an hour to reach.\n"
   ]
  },
  {
   "cell_type": "markdown",
   "id": "d22d8d4e",
   "metadata": {
    "hidden": true
   },
   "source": [
    "**TODO: (Marco) fix this**\n",
    "![Screen%20Shot%202023-03-21%20at%201.38.43%20PM.png](attachment:Screen%20Shot%202023-03-21%20at%201.38.43%20PM.png)"
   ]
  },
  {
   "cell_type": "markdown",
   "id": "d154937f",
   "metadata": {
    "hidden": true
   },
   "source": [
    "We chose the Demand to Facility as overdose patients need to be taken to the Addiction Centers. We also set the time to 30 minutes as a person can die from an overdose as soon as one hour.\n"
   ]
  },
  {
   "cell_type": "markdown",
   "id": "1de8716c",
   "metadata": {
    "hidden": true
   },
   "source": [
    "**TODO: (Marco) fix this**\n",
    "![Screen%20Shot%202023-03-21%20at%201.41.59%20PM.png](attachment:Screen%20Shot%202023-03-21%20at%201.41.59%20PM.png)"
   ]
  },
  {
   "cell_type": "markdown",
   "id": "db6e8afa",
   "metadata": {
    "hidden": true
   },
   "source": [
    "The above-mentioned Required and Candidate Facilities were used to produce three new allocation points that did not previously exist as Addiction Treatment Centers. The three new locations can be seen below.\n"
   ]
  },
  {
   "cell_type": "markdown",
   "id": "912fd022",
   "metadata": {
    "hidden": true
   },
   "source": [
    "**TODO: (Marco) fix this**\n",
    "![AllocatedPoints.png](attachment:AllocatedPoints.png)"
   ]
  },
  {
   "cell_type": "markdown",
   "id": "8743dd5f",
   "metadata": {
    "hidden": true
   },
   "source": [
    "The same process was done with Police Stations near Mesa, Arizona. \n"
   ]
  },
  {
   "cell_type": "markdown",
   "id": "631b6e4c",
   "metadata": {
    "hidden": true
   },
   "source": [
    "**TODO: (Marco) fix this**\n",
    "![Screen%20Shot%202023-03-21%20at%205.50.06%20PM.png](attachment:Screen%20Shot%202023-03-21%20at%205.50.06%20PM.png)"
   ]
  },
  {
   "cell_type": "markdown",
   "id": "0e89e83c",
   "metadata": {},
   "source": [
    "### 9.3: Service Areas by Drive Time with Candidate Locations <a class=\"anchor\" id=\"sect_9_3\"></a>"
   ]
  },
  {
   "cell_type": "markdown",
   "id": "0e34a672",
   "metadata": {
    "heading_collapsed": true
   },
   "source": [
    "#### 9.3A: Addiction Treatment Facilities Service Areas by Drive Time with Candidate Locations (5, 10, 15, 20, 30, 45 mins) <a class=\"anchor\" id=\"sect_9_3A\"></a>"
   ]
  },
  {
   "cell_type": "markdown",
   "id": "9905be8b",
   "metadata": {
    "hidden": true
   },
   "source": [
    "Step 1: Getting the Feature Layer containing the 'Chosen' candidate locations for addiction treatment clinics from Section 9.2: Location-Allocation Analysis"
   ]
  },
  {
   "cell_type": "code",
   "execution_count": 29,
   "id": "33e58d5a",
   "metadata": {
    "hidden": true
   },
   "outputs": [
    {
     "data": {
      "text/html": [
       "<div>\n",
       "<style scoped>\n",
       "    .dataframe tbody tr th:only-of-type {\n",
       "        vertical-align: middle;\n",
       "    }\n",
       "\n",
       "    .dataframe tbody tr th {\n",
       "        vertical-align: top;\n",
       "    }\n",
       "\n",
       "    .dataframe thead th {\n",
       "        text-align: right;\n",
       "    }\n",
       "</style>\n",
       "<table border=\"1\" class=\"dataframe\">\n",
       "  <thead>\n",
       "    <tr style=\"text-align: right;\">\n",
       "      <th></th>\n",
       "      <th>OBJECTID</th>\n",
       "      <th>FacilityType</th>\n",
       "      <th>Capacity</th>\n",
       "      <th>DemandCount</th>\n",
       "      <th>AllocatedDemand</th>\n",
       "      <th>SourceID</th>\n",
       "      <th>SourceOID</th>\n",
       "      <th>PosAlong</th>\n",
       "      <th>SideOfEdge</th>\n",
       "      <th>SnapX</th>\n",
       "      <th>...</th>\n",
       "      <th>Deed_Date</th>\n",
       "      <th>Purchase_D</th>\n",
       "      <th>Square_Fee</th>\n",
       "      <th>Facility_N</th>\n",
       "      <th>Date_Acqui</th>\n",
       "      <th>Deed_Numbe</th>\n",
       "      <th>APN</th>\n",
       "      <th>Mesa_Refer</th>\n",
       "      <th>Council_Di</th>\n",
       "      <th>SHAPE</th>\n",
       "    </tr>\n",
       "  </thead>\n",
       "  <tbody>\n",
       "    <tr>\n",
       "      <th>30</th>\n",
       "      <td>31</td>\n",
       "      <td>Chosen</td>\n",
       "      <td>2147483647</td>\n",
       "      <td>296</td>\n",
       "      <td>296</td>\n",
       "      <td>1</td>\n",
       "      <td>10977425</td>\n",
       "      <td>0.412038</td>\n",
       "      <td>2</td>\n",
       "      <td>-111.841471</td>\n",
       "      <td>...</td>\n",
       "      <td>06/03/1988 12:00:00 AM</td>\n",
       "      <td>06/03/1988</td>\n",
       "      <td>6109.0</td>\n",
       "      <td>Possible future well site</td>\n",
       "      <td>06/03/1988 12:00:00 AM</td>\n",
       "      <td>880270717</td>\n",
       "      <td>13559005</td>\n",
       "      <td>NaN</td>\n",
       "      <td>6.0</td>\n",
       "      <td>{\"x\": -12450135.6566, \"y\": 3951487.3871000037,...</td>\n",
       "    </tr>\n",
       "    <tr>\n",
       "      <th>32</th>\n",
       "      <td>33</td>\n",
       "      <td>Chosen</td>\n",
       "      <td>2147483647</td>\n",
       "      <td>123</td>\n",
       "      <td>123</td>\n",
       "      <td>1</td>\n",
       "      <td>11009911</td>\n",
       "      <td>0.222727</td>\n",
       "      <td>1</td>\n",
       "      <td>-111.678427</td>\n",
       "      <td>...</td>\n",
       "      <td>04/07/1989 12:00:00 AM</td>\n",
       "      <td>04/07/1989</td>\n",
       "      <td>318816.0</td>\n",
       "      <td>Future Transportation Facility Site</td>\n",
       "      <td>04/07/1989 12:00:00 AM</td>\n",
       "      <td>890158647</td>\n",
       "      <td>21810002D</td>\n",
       "      <td>NaN</td>\n",
       "      <td>5.0</td>\n",
       "      <td>{\"x\": -12431979.5588, \"y\": 3952637.6893000007,...</td>\n",
       "    </tr>\n",
       "    <tr>\n",
       "      <th>37</th>\n",
       "      <td>38</td>\n",
       "      <td>Chosen</td>\n",
       "      <td>2147483647</td>\n",
       "      <td>134</td>\n",
       "      <td>134</td>\n",
       "      <td>1</td>\n",
       "      <td>10996526</td>\n",
       "      <td>0.415415</td>\n",
       "      <td>1</td>\n",
       "      <td>-111.702969</td>\n",
       "      <td>...</td>\n",
       "      <td>05/27/1988 12:00:00 AM</td>\n",
       "      <td>05/27/1988</td>\n",
       "      <td>91345.0</td>\n",
       "      <td>Excess Property</td>\n",
       "      <td>05/27/1988 12:00:00 AM</td>\n",
       "      <td>880257803</td>\n",
       "      <td>14178820</td>\n",
       "      <td>NaN</td>\n",
       "      <td>5.0</td>\n",
       "      <td>{\"x\": -12434717.6001, \"y\": 3952657.7739000022,...</td>\n",
       "    </tr>\n",
       "  </tbody>\n",
       "</table>\n",
       "<p>3 rows × 289 columns</p>\n",
       "</div>"
      ],
      "text/plain": [
       "    OBJECTID FacilityType    Capacity  DemandCount  AllocatedDemand  SourceID  \\\n",
       "30        31       Chosen  2147483647          296              296         1   \n",
       "32        33       Chosen  2147483647          123              123         1   \n",
       "37        38       Chosen  2147483647          134              134         1   \n",
       "\n",
       "    SourceOID  PosAlong  SideOfEdge       SnapX  ...               Deed_Date  \\\n",
       "30   10977425  0.412038           2 -111.841471  ...  06/03/1988 12:00:00 AM   \n",
       "32   11009911  0.222727           1 -111.678427  ...  04/07/1989 12:00:00 AM   \n",
       "37   10996526  0.415415           1 -111.702969  ...  05/27/1988 12:00:00 AM   \n",
       "\n",
       "    Purchase_D  Square_Fee                           Facility_N  \\\n",
       "30  06/03/1988      6109.0            Possible future well site   \n",
       "32  04/07/1989    318816.0  Future Transportation Facility Site   \n",
       "37  05/27/1988     91345.0                      Excess Property   \n",
       "\n",
       "                Date_Acqui  Deed_Numbe        APN Mesa_Refer Council_Di  \\\n",
       "30  06/03/1988 12:00:00 AM   880270717   13559005        NaN        6.0   \n",
       "32  04/07/1989 12:00:00 AM   890158647  21810002D        NaN        5.0   \n",
       "37  05/27/1988 12:00:00 AM   880257803   14178820        NaN        5.0   \n",
       "\n",
       "                                                SHAPE  \n",
       "30  {\"x\": -12450135.6566, \"y\": 3951487.3871000037,...  \n",
       "32  {\"x\": -12431979.5588, \"y\": 3952637.6893000007,...  \n",
       "37  {\"x\": -12434717.6001, \"y\": 3952657.7739000022,...  \n",
       "\n",
       "[3 rows x 289 columns]"
      ]
     },
     "execution_count": 29,
     "metadata": {},
     "output_type": "execute_result"
    }
   ],
   "source": [
    "# Title: New_Assigned_facilities_for_DOAs_Vacants_Section_1 | Type: Feature Service | Owner: dsc170wi23_24\n",
    "candidate_clinic_sites = agol.content.get(\"dacd84d69e184050b240351e2fe92e6a\")\n",
    "candidate_clinic_sites_fl = candidate_clinic_sites.layers[0]\n",
    "candidate_clinic_sites_sdf = candidate_clinic_sites_fl.query().sdf\n",
    "candidate_clinic_sites_sdf = candidate_clinic_sites_sdf[candidate_clinic_sites_sdf['FacilityType']=='Chosen']\n",
    "candidate_clinic_sites_sdf"
   ]
  },
  {
   "cell_type": "code",
   "execution_count": 30,
   "id": "f2083f6f",
   "metadata": {
    "hidden": true
   },
   "outputs": [
    {
     "name": "stdout",
     "output_type": "stream",
     "text": [
      "From AGOL\n"
     ]
    }
   ],
   "source": [
    "try:\n",
    "    candidate_clinic_sites = agol.content.get('0d234b0557ce48c59a67502adc28fb79')\n",
    "    print('From AGOL')\n",
    "    \n",
    "except:\n",
    "    candidate_clinic_sites = candidate_clinic_sites_sdf.spatial.to_featurelayer(title='candidate_clinics',gis=agol)\n",
    "    print('To AGOL')\n",
    "    \n",
    "candidate_clinic_sites_fl = candidate_clinic_sites.layers[0]\n",
    "candidate_clinic_sites_sdf = candidate_clinic_sites_fl.query().sdf"
   ]
  },
  {
   "cell_type": "markdown",
   "id": "b3dfa366",
   "metadata": {
    "hidden": true
   },
   "source": [
    "Step 2: Merging the 3 Candidate \"Chosen\" new Addiction Clinic data with the original Addiction Clinics data"
   ]
  },
  {
   "cell_type": "code",
   "execution_count": 31,
   "id": "face6cfc",
   "metadata": {
    "hidden": true
   },
   "outputs": [
    {
     "name": "stdout",
     "output_type": "stream",
     "text": [
      "From AGOL\n"
     ]
    }
   ],
   "source": [
    "try:\n",
    "    merged_clinics = agol.content.get(\"b10a6e3b2cfa4758b28e3c81130d33f8\")\n",
    "    print('From AGOL')\n",
    "    \n",
    "except:\n",
    "    merged_clinics = features.manage_data.merge_layers(input_layer=clinics_fl,\n",
    "                                                       merge_layer=candidate_clinic_sites_fl,\n",
    "                                                       output_name='clinics_with_candidates')\n",
    "    print('To AGOL')\n",
    "    \n",
    "merged_clinics_fl = merged_clinics.layers[0]"
   ]
  },
  {
   "cell_type": "markdown",
   "id": "8a279030",
   "metadata": {
    "hidden": true
   },
   "source": [
    "Step 3: Use the create_drive_time_areas function from the Features Use_Proximity Module in ArcGIS\n",
    "- Takes in Addiction Treatment Clinics Merged with 3 Candidate \"Chosen\" Locations feature layer as input, along with the breaks in minutes, and outputs a feature layer with service areas\n",
    "- We converted the output feature layer as an SEDF in the cell below"
   ]
  },
  {
   "cell_type": "code",
   "execution_count": 32,
   "id": "b187aae6",
   "metadata": {
    "hidden": true
   },
   "outputs": [
    {
     "name": "stdout",
     "output_type": "stream",
     "text": [
      "From AGOL\n"
     ]
    },
    {
     "data": {
      "text/html": [
       "<div>\n",
       "<style scoped>\n",
       "    .dataframe tbody tr th:only-of-type {\n",
       "        vertical-align: middle;\n",
       "    }\n",
       "\n",
       "    .dataframe tbody tr th {\n",
       "        vertical-align: top;\n",
       "    }\n",
       "\n",
       "    .dataframe thead th {\n",
       "        text-align: right;\n",
       "    }\n",
       "</style>\n",
       "<table border=\"1\" class=\"dataframe\">\n",
       "  <thead>\n",
       "    <tr style=\"text-align: right;\">\n",
       "      <th></th>\n",
       "      <th>OBJECTID</th>\n",
       "      <th>Name</th>\n",
       "      <th>FromBreak</th>\n",
       "      <th>ToBreak</th>\n",
       "      <th>FacilityOID</th>\n",
       "      <th>AnalysisArea</th>\n",
       "      <th>SHAPE</th>\n",
       "    </tr>\n",
       "  </thead>\n",
       "  <tbody>\n",
       "    <tr>\n",
       "      <th>0</th>\n",
       "      <td>1</td>\n",
       "      <td>30 - 45</td>\n",
       "      <td>30</td>\n",
       "      <td>45</td>\n",
       "      <td>None</td>\n",
       "      <td>1892.150227</td>\n",
       "      <td>{\"rings\": [[[-110.926383176, 32.5150182180001]...</td>\n",
       "    </tr>\n",
       "    <tr>\n",
       "      <th>1</th>\n",
       "      <td>2</td>\n",
       "      <td>20 - 30</td>\n",
       "      <td>20</td>\n",
       "      <td>30</td>\n",
       "      <td>None</td>\n",
       "      <td>1449.024899</td>\n",
       "      <td>{\"rings\": [[[-113.124326044, 33.9152607620001]...</td>\n",
       "    </tr>\n",
       "    <tr>\n",
       "      <th>2</th>\n",
       "      <td>3</td>\n",
       "      <td>15 - 20</td>\n",
       "      <td>15</td>\n",
       "      <td>20</td>\n",
       "      <td>None</td>\n",
       "      <td>696.053271</td>\n",
       "      <td>{\"rings\": [[[-111.551383176, 32.6681802730001]...</td>\n",
       "    </tr>\n",
       "    <tr>\n",
       "      <th>3</th>\n",
       "      <td>4</td>\n",
       "      <td>10 - 15</td>\n",
       "      <td>10</td>\n",
       "      <td>15</td>\n",
       "      <td>None</td>\n",
       "      <td>708.315702</td>\n",
       "      <td>{\"rings\": [[[-111.912953424, 33.21817129], [-1...</td>\n",
       "    </tr>\n",
       "    <tr>\n",
       "      <th>4</th>\n",
       "      <td>5</td>\n",
       "      <td>5 - 10</td>\n",
       "      <td>5</td>\n",
       "      <td>10</td>\n",
       "      <td>None</td>\n",
       "      <td>714.264218</td>\n",
       "      <td>{\"rings\": [[[-112.374909946, 33.5503218470001]...</td>\n",
       "    </tr>\n",
       "    <tr>\n",
       "      <th>5</th>\n",
       "      <td>6</td>\n",
       "      <td>0 - 5</td>\n",
       "      <td>0</td>\n",
       "      <td>5</td>\n",
       "      <td>None</td>\n",
       "      <td>456.852596</td>\n",
       "      <td>{\"rings\": [[[-111.912728847, 33.632517319], [-...</td>\n",
       "    </tr>\n",
       "  </tbody>\n",
       "</table>\n",
       "</div>"
      ],
      "text/plain": [
       "   OBJECTID     Name  FromBreak  ToBreak FacilityOID  AnalysisArea  \\\n",
       "0         1  30 - 45         30       45        None   1892.150227   \n",
       "1         2  20 - 30         20       30        None   1449.024899   \n",
       "2         3  15 - 20         15       20        None    696.053271   \n",
       "3         4  10 - 15         10       15        None    708.315702   \n",
       "4         5   5 - 10          5       10        None    714.264218   \n",
       "5         6    0 - 5          0        5        None    456.852596   \n",
       "\n",
       "                                               SHAPE  \n",
       "0  {\"rings\": [[[-110.926383176, 32.5150182180001]...  \n",
       "1  {\"rings\": [[[-113.124326044, 33.9152607620001]...  \n",
       "2  {\"rings\": [[[-111.551383176, 32.6681802730001]...  \n",
       "3  {\"rings\": [[[-111.912953424, 33.21817129], [-1...  \n",
       "4  {\"rings\": [[[-112.374909946, 33.5503218470001]...  \n",
       "5  {\"rings\": [[[-111.912728847, 33.632517319], [-...  "
      ]
     },
     "execution_count": 32,
     "metadata": {},
     "output_type": "execute_result"
    }
   ],
   "source": [
    "try:\n",
    "    # Title: DriveTimeToClinicsPlusCandidates | Type: Feature Service | Owner: dsc170wi23_9\n",
    "    drive_times_clinics_candidates = agol.content.get(\"567ddca3e3be452da74fc0d11d5e2d7e\")\n",
    "    print('From AGOL')\n",
    "    \n",
    "except:\n",
    "    drive_times_clinics_candidates = create_drive_time_areas(merged_clinics_fl, \n",
    "                                            break_values = [5,10,15,20,30,45],\n",
    "                                            break_units = 'Minutes',\n",
    "                                            travel_mode = 'Driving Time',\n",
    "                                            travel_direction = 'TowardsFacility',\n",
    "                                            output_name='DriveTimeToClinicsPlusCandidates',\n",
    "                                            overlap_policy='Dissolve')\n",
    "    print('To AGOL')\n",
    "    \n",
    "drive_times_clinics_candidates_fl = drive_times_clinics_candidates.layers[0]\n",
    "drive_times_clinics_candidates_sdf = drive_times_clinics_candidates_fl.query().sdf\n",
    "drive_times_clinics_candidates_sdf"
   ]
  },
  {
   "cell_type": "markdown",
   "id": "a5411ce0",
   "metadata": {
    "hidden": true
   },
   "source": [
    "Step 4: Mapping the Result. This map is interpretted in the Summaries section below."
   ]
  },
  {
   "cell_type": "code",
   "execution_count": 33,
   "id": "634eec8b",
   "metadata": {
    "hidden": true
   },
   "outputs": [
    {
     "data": {
      "application/vnd.jupyter.widget-view+json": {
       "model_id": "56ba0862e6b345738412a2f54969b72d",
       "version_major": 2,
       "version_minor": 0
      },
      "text/plain": [
       "MapView(layout=Layout(height='400px', width='100%'))"
      ]
     },
     "metadata": {},
     "output_type": "display_data"
    },
    {
     "data": {
      "text/html": [
       "<div class=\"map-static-img-preview-a49f38d9-dafb-4597-807d-3d30a9b6247c\"><img src=\"\"></img></div>"
      ],
      "text/plain": [
       "<IPython.core.display.HTML object>"
      ]
     },
     "metadata": {},
     "output_type": "display_data"
    },
    {
     "data": {
      "text/html": [
       "<div class=\"map-html-embed-preview-a49f38d9-dafb-4597-807d-3d30a9b6247c\"></div>"
      ],
      "text/plain": [
       "<IPython.core.display.HTML object>"
      ]
     },
     "metadata": {},
     "output_type": "display_data"
    }
   ],
   "source": [
    "map_drive_time_clinics_candidates = agol.map('Mesa')\n",
    "map_drive_time_clinics_candidates.add_layer(drive_times_clinics_candidates_fl)\n",
    "map_drive_time_clinics_candidates.add_layer(od_fl)\n",
    "map_drive_time_clinics_candidates.add_layer(candidate_clinic_sites_fl)\n",
    "map_drive_time_clinics_candidates"
   ]
  },
  {
   "cell_type": "markdown",
   "id": "87b3c26b",
   "metadata": {
    "hidden": true
   },
   "source": [
    "Step 5: aggregating all of the overdose points by each service area for addiction clinics + 3 candidate locations. Compute the mean of the binary DOA column to give a percent for each service area. See the table below for the result. Interpretted in the Summaries section below."
   ]
  },
  {
   "cell_type": "code",
   "execution_count": 34,
   "id": "8de7dc52",
   "metadata": {
    "hidden": true
   },
   "outputs": [
    {
     "name": "stdout",
     "output_type": "stream",
     "text": [
      "From AGOL\n"
     ]
    },
    {
     "data": {
      "text/html": [
       "<div>\n",
       "<style scoped>\n",
       "    .dataframe tbody tr th:only-of-type {\n",
       "        vertical-align: middle;\n",
       "    }\n",
       "\n",
       "    .dataframe tbody tr th {\n",
       "        vertical-align: top;\n",
       "    }\n",
       "\n",
       "    .dataframe thead th {\n",
       "        text-align: right;\n",
       "    }\n",
       "</style>\n",
       "<table border=\"1\" class=\"dataframe\">\n",
       "  <thead>\n",
       "    <tr style=\"text-align: right;\">\n",
       "      <th></th>\n",
       "      <th>OBJECTID</th>\n",
       "      <th>Name</th>\n",
       "      <th>FromBreak</th>\n",
       "      <th>ToBreak</th>\n",
       "      <th>FacilityOID</th>\n",
       "      <th>AnalysisArea</th>\n",
       "      <th>mean_DOA</th>\n",
       "      <th>std_DOA</th>\n",
       "      <th>sum_DOA</th>\n",
       "      <th>Point_Count</th>\n",
       "      <th>SHAPE</th>\n",
       "    </tr>\n",
       "  </thead>\n",
       "  <tbody>\n",
       "    <tr>\n",
       "      <th>0</th>\n",
       "      <td>1</td>\n",
       "      <td>30 - 45</td>\n",
       "      <td>30</td>\n",
       "      <td>45</td>\n",
       "      <td>None</td>\n",
       "      <td>1892.150227</td>\n",
       "      <td>NaN</td>\n",
       "      <td>NaN</td>\n",
       "      <td>0</td>\n",
       "      <td>0</td>\n",
       "      <td>{\"rings\": [[[-110.926383176, 32.5150182180001]...</td>\n",
       "    </tr>\n",
       "    <tr>\n",
       "      <th>1</th>\n",
       "      <td>2</td>\n",
       "      <td>20 - 30</td>\n",
       "      <td>20</td>\n",
       "      <td>30</td>\n",
       "      <td>None</td>\n",
       "      <td>1449.024899</td>\n",
       "      <td>NaN</td>\n",
       "      <td>NaN</td>\n",
       "      <td>0</td>\n",
       "      <td>0</td>\n",
       "      <td>{\"rings\": [[[-113.124326044, 33.9152607620001]...</td>\n",
       "    </tr>\n",
       "    <tr>\n",
       "      <th>2</th>\n",
       "      <td>3</td>\n",
       "      <td>15 - 20</td>\n",
       "      <td>15</td>\n",
       "      <td>20</td>\n",
       "      <td>None</td>\n",
       "      <td>696.053271</td>\n",
       "      <td>0.514286</td>\n",
       "      <td>0.507093</td>\n",
       "      <td>18</td>\n",
       "      <td>35</td>\n",
       "      <td>{\"rings\": [[[-111.551383176, 32.6681802730001]...</td>\n",
       "    </tr>\n",
       "    <tr>\n",
       "      <th>3</th>\n",
       "      <td>4</td>\n",
       "      <td>10 - 15</td>\n",
       "      <td>10</td>\n",
       "      <td>15</td>\n",
       "      <td>None</td>\n",
       "      <td>708.315702</td>\n",
       "      <td>0.442748</td>\n",
       "      <td>0.497662</td>\n",
       "      <td>116</td>\n",
       "      <td>262</td>\n",
       "      <td>{\"rings\": [[[-111.912953424, 33.21817129], [-1...</td>\n",
       "    </tr>\n",
       "    <tr>\n",
       "      <th>4</th>\n",
       "      <td>5</td>\n",
       "      <td>5 - 10</td>\n",
       "      <td>5</td>\n",
       "      <td>10</td>\n",
       "      <td>None</td>\n",
       "      <td>714.264218</td>\n",
       "      <td>0.439060</td>\n",
       "      <td>0.496455</td>\n",
       "      <td>598</td>\n",
       "      <td>1362</td>\n",
       "      <td>{\"rings\": [[[-112.374909946, 33.5503218470001]...</td>\n",
       "    </tr>\n",
       "    <tr>\n",
       "      <th>5</th>\n",
       "      <td>6</td>\n",
       "      <td>0 - 5</td>\n",
       "      <td>0</td>\n",
       "      <td>5</td>\n",
       "      <td>None</td>\n",
       "      <td>456.852596</td>\n",
       "      <td>0.328463</td>\n",
       "      <td>0.469691</td>\n",
       "      <td>2068</td>\n",
       "      <td>6296</td>\n",
       "      <td>{\"rings\": [[[-111.913851736, 33.6327418970001]...</td>\n",
       "    </tr>\n",
       "  </tbody>\n",
       "</table>\n",
       "</div>"
      ],
      "text/plain": [
       "   OBJECTID     Name  FromBreak  ToBreak FacilityOID  AnalysisArea  mean_DOA  \\\n",
       "0         1  30 - 45         30       45        None   1892.150227       NaN   \n",
       "1         2  20 - 30         20       30        None   1449.024899       NaN   \n",
       "2         3  15 - 20         15       20        None    696.053271  0.514286   \n",
       "3         4  10 - 15         10       15        None    708.315702  0.442748   \n",
       "4         5   5 - 10          5       10        None    714.264218  0.439060   \n",
       "5         6    0 - 5          0        5        None    456.852596  0.328463   \n",
       "\n",
       "    std_DOA  sum_DOA  Point_Count  \\\n",
       "0       NaN        0            0   \n",
       "1       NaN        0            0   \n",
       "2  0.507093       18           35   \n",
       "3  0.497662      116          262   \n",
       "4  0.496455      598         1362   \n",
       "5  0.469691     2068         6296   \n",
       "\n",
       "                                               SHAPE  \n",
       "0  {\"rings\": [[[-110.926383176, 32.5150182180001]...  \n",
       "1  {\"rings\": [[[-113.124326044, 33.9152607620001]...  \n",
       "2  {\"rings\": [[[-111.551383176, 32.6681802730001]...  \n",
       "3  {\"rings\": [[[-111.912953424, 33.21817129], [-1...  \n",
       "4  {\"rings\": [[[-112.374909946, 33.5503218470001]...  \n",
       "5  {\"rings\": [[[-111.913851736, 33.6327418970001]...  "
      ]
     },
     "execution_count": 34,
     "metadata": {},
     "output_type": "execute_result"
    }
   ],
   "source": [
    "try:\n",
    "    # Title: Agg_OD_DriveTimeClinics_Candidates | Type: Feature Service | Owner: dsc170wi23_9\n",
    "    agg_od_clinics_candidates = agol.content.get('de7b405c8fa4439a8e9a8f55f4244a66')\n",
    "    print('From AGOL')\n",
    "    \n",
    "except:\n",
    "    agg_od_clinics_candidates = features.summarize_data.aggregate_points(point_layer=od_fl,\n",
    "                                                            polygon_layer=drive_times_clinics_candidates_fl,\n",
    "                                                            summary_fields=['DOA mean', 'DOA stddev','DOA sum'],\n",
    "                                                            output_name='Agg_OD_DriveTimeClinics_Candidates'\n",
    "                                                           )\n",
    "    print('To AGOL')\n",
    "    \n",
    "agg_od_clinics_candidates_fl = agg_od_clinics_candidates.layers[0]\n",
    "agg_od_clinics_candidates_sdf = agg_od_clinics_candidates_fl.query().sdf\n",
    "agg_od_clinics_candidates_sdf"
   ]
  },
  {
   "cell_type": "code",
   "execution_count": 35,
   "id": "4327c540",
   "metadata": {
    "hidden": true
   },
   "outputs": [
    {
     "data": {
      "text/html": [
       "<div>\n",
       "<style scoped>\n",
       "    .dataframe tbody tr th:only-of-type {\n",
       "        vertical-align: middle;\n",
       "    }\n",
       "\n",
       "    .dataframe tbody tr th {\n",
       "        vertical-align: top;\n",
       "    }\n",
       "\n",
       "    .dataframe thead th {\n",
       "        text-align: right;\n",
       "    }\n",
       "</style>\n",
       "<table border=\"1\" class=\"dataframe\">\n",
       "  <thead>\n",
       "    <tr style=\"text-align: right;\">\n",
       "      <th></th>\n",
       "      <th>OBJECTID</th>\n",
       "      <th>Name</th>\n",
       "      <th>FromBreak</th>\n",
       "      <th>ToBreak</th>\n",
       "      <th>FacilityOID</th>\n",
       "      <th>AnalysisArea</th>\n",
       "      <th>mean_DOA</th>\n",
       "      <th>std_DOA</th>\n",
       "      <th>sum_DOA</th>\n",
       "      <th>Point_Count</th>\n",
       "      <th>SHAPE</th>\n",
       "    </tr>\n",
       "  </thead>\n",
       "  <tbody>\n",
       "    <tr>\n",
       "      <th>0</th>\n",
       "      <td>1</td>\n",
       "      <td>30 - 45</td>\n",
       "      <td>30</td>\n",
       "      <td>45</td>\n",
       "      <td>None</td>\n",
       "      <td>1892.150227</td>\n",
       "      <td>NaN</td>\n",
       "      <td>NaN</td>\n",
       "      <td>0</td>\n",
       "      <td>0</td>\n",
       "      <td>{\"rings\": [[[-110.926383176, 32.5150182180001]...</td>\n",
       "    </tr>\n",
       "    <tr>\n",
       "      <th>1</th>\n",
       "      <td>2</td>\n",
       "      <td>20 - 30</td>\n",
       "      <td>20</td>\n",
       "      <td>30</td>\n",
       "      <td>None</td>\n",
       "      <td>1449.301705</td>\n",
       "      <td>NaN</td>\n",
       "      <td>NaN</td>\n",
       "      <td>0</td>\n",
       "      <td>0</td>\n",
       "      <td>{\"rings\": [[[-113.124326044, 33.9152607620001]...</td>\n",
       "    </tr>\n",
       "    <tr>\n",
       "      <th>2</th>\n",
       "      <td>3</td>\n",
       "      <td>15 - 20</td>\n",
       "      <td>15</td>\n",
       "      <td>20</td>\n",
       "      <td>None</td>\n",
       "      <td>696.582794</td>\n",
       "      <td>0.514286</td>\n",
       "      <td>0.507093</td>\n",
       "      <td>18</td>\n",
       "      <td>35</td>\n",
       "      <td>{\"rings\": [[[-111.551383176, 32.6681802730001]...</td>\n",
       "    </tr>\n",
       "    <tr>\n",
       "      <th>3</th>\n",
       "      <td>4</td>\n",
       "      <td>10 - 15</td>\n",
       "      <td>10</td>\n",
       "      <td>15</td>\n",
       "      <td>None</td>\n",
       "      <td>711.287731</td>\n",
       "      <td>0.435540</td>\n",
       "      <td>0.496694</td>\n",
       "      <td>125</td>\n",
       "      <td>287</td>\n",
       "      <td>{\"rings\": [[[-111.912953424, 33.21817129], [-1...</td>\n",
       "    </tr>\n",
       "    <tr>\n",
       "      <th>4</th>\n",
       "      <td>5</td>\n",
       "      <td>5 - 10</td>\n",
       "      <td>5</td>\n",
       "      <td>10</td>\n",
       "      <td>None</td>\n",
       "      <td>714.892474</td>\n",
       "      <td>0.449446</td>\n",
       "      <td>0.497600</td>\n",
       "      <td>689</td>\n",
       "      <td>1533</td>\n",
       "      <td>{\"rings\": [[[-112.374909946, 33.5503218470001]...</td>\n",
       "    </tr>\n",
       "    <tr>\n",
       "      <th>5</th>\n",
       "      <td>6</td>\n",
       "      <td>0 - 5</td>\n",
       "      <td>0</td>\n",
       "      <td>5</td>\n",
       "      <td>None</td>\n",
       "      <td>452.456418</td>\n",
       "      <td>0.322623</td>\n",
       "      <td>0.467518</td>\n",
       "      <td>1968</td>\n",
       "      <td>6100</td>\n",
       "      <td>{\"rings\": [[[-111.913851736, 33.6327418970001]...</td>\n",
       "    </tr>\n",
       "  </tbody>\n",
       "</table>\n",
       "</div>"
      ],
      "text/plain": [
       "   OBJECTID     Name  FromBreak  ToBreak FacilityOID  AnalysisArea  mean_DOA  \\\n",
       "0         1  30 - 45         30       45        None   1892.150227       NaN   \n",
       "1         2  20 - 30         20       30        None   1449.301705       NaN   \n",
       "2         3  15 - 20         15       20        None    696.582794  0.514286   \n",
       "3         4  10 - 15         10       15        None    711.287731  0.435540   \n",
       "4         5   5 - 10          5       10        None    714.892474  0.449446   \n",
       "5         6    0 - 5          0        5        None    452.456418  0.322623   \n",
       "\n",
       "    std_DOA  sum_DOA  Point_Count  \\\n",
       "0       NaN        0            0   \n",
       "1       NaN        0            0   \n",
       "2  0.507093       18           35   \n",
       "3  0.496694      125          287   \n",
       "4  0.497600      689         1533   \n",
       "5  0.467518     1968         6100   \n",
       "\n",
       "                                               SHAPE  \n",
       "0  {\"rings\": [[[-110.926383176, 32.5150182180001]...  \n",
       "1  {\"rings\": [[[-113.124326044, 33.9152607620001]...  \n",
       "2  {\"rings\": [[[-111.551383176, 32.6681802730001]...  \n",
       "3  {\"rings\": [[[-111.912953424, 33.21817129], [-1...  \n",
       "4  {\"rings\": [[[-112.374909946, 33.5503218470001]...  \n",
       "5  {\"rings\": [[[-111.913851736, 33.6327418970001]...  "
      ]
     },
     "execution_count": 35,
     "metadata": {},
     "output_type": "execute_result"
    }
   ],
   "source": [
    "agg_od_clinics_sdf"
   ]
  },
  {
   "cell_type": "markdown",
   "id": "ef05cdd8",
   "metadata": {
    "heading_collapsed": true
   },
   "source": [
    "#### 9.3B: Fire + EMS Station Service Areas by Truck Time with Candidate Locations (5, 10, 15, 20, 30, 45 mins) <a class=\"anchor\" id=\"sect_9_3B\"></a>"
   ]
  },
  {
   "cell_type": "markdown",
   "id": "7c24924b",
   "metadata": {
    "hidden": true
   },
   "source": [
    "Step 1: Getting the Feature Layer containing the 'Chosen' candidate locations for Fire + EMS Stations from Section 9.2: Location-Allocation Analysis"
   ]
  },
  {
   "cell_type": "code",
   "execution_count": 36,
   "id": "3a1fe257",
   "metadata": {
    "hidden": true
   },
   "outputs": [
    {
     "data": {
      "text/html": [
       "<div>\n",
       "<style scoped>\n",
       "    .dataframe tbody tr th:only-of-type {\n",
       "        vertical-align: middle;\n",
       "    }\n",
       "\n",
       "    .dataframe tbody tr th {\n",
       "        vertical-align: top;\n",
       "    }\n",
       "\n",
       "    .dataframe thead th {\n",
       "        text-align: right;\n",
       "    }\n",
       "</style>\n",
       "<table border=\"1\" class=\"dataframe\">\n",
       "  <thead>\n",
       "    <tr style=\"text-align: right;\">\n",
       "      <th></th>\n",
       "      <th>OBJECTID</th>\n",
       "      <th>FacilityType</th>\n",
       "      <th>Capacity</th>\n",
       "      <th>DemandCount</th>\n",
       "      <th>AllocatedDemand</th>\n",
       "      <th>SourceID</th>\n",
       "      <th>SourceOID</th>\n",
       "      <th>PosAlong</th>\n",
       "      <th>SideOfEdge</th>\n",
       "      <th>SnapX</th>\n",
       "      <th>...</th>\n",
       "      <th>Deed_Date</th>\n",
       "      <th>Purchase_D</th>\n",
       "      <th>Square_Fee</th>\n",
       "      <th>Facility_N</th>\n",
       "      <th>Date_Acqui</th>\n",
       "      <th>Deed_Numbe</th>\n",
       "      <th>APN</th>\n",
       "      <th>Mesa_Refer</th>\n",
       "      <th>Council_Di</th>\n",
       "      <th>SHAPE</th>\n",
       "    </tr>\n",
       "  </thead>\n",
       "  <tbody>\n",
       "    <tr>\n",
       "      <th>15</th>\n",
       "      <td>16</td>\n",
       "      <td>Chosen</td>\n",
       "      <td>2147483647</td>\n",
       "      <td>593</td>\n",
       "      <td>593</td>\n",
       "      <td>1</td>\n",
       "      <td>10979449</td>\n",
       "      <td>0.187006</td>\n",
       "      <td>1</td>\n",
       "      <td>-111.831274</td>\n",
       "      <td>...</td>\n",
       "      <td>09/13/1999 12:00:00 AM</td>\n",
       "      <td>09/13/1999</td>\n",
       "      <td>200.0</td>\n",
       "      <td>future bus shelter</td>\n",
       "      <td>09/13/1999 12:00:00 AM</td>\n",
       "      <td>990855151</td>\n",
       "      <td>13725220D</td>\n",
       "      <td>NaN</td>\n",
       "      <td>6.0</td>\n",
       "      <td>{\"x\": -12449000.4753, \"y\": 3951980.6396000013,...</td>\n",
       "    </tr>\n",
       "    <tr>\n",
       "      <th>19</th>\n",
       "      <td>20</td>\n",
       "      <td>Chosen</td>\n",
       "      <td>2147483647</td>\n",
       "      <td>277</td>\n",
       "      <td>277</td>\n",
       "      <td>1</td>\n",
       "      <td>11009911</td>\n",
       "      <td>0.222727</td>\n",
       "      <td>1</td>\n",
       "      <td>-111.678427</td>\n",
       "      <td>...</td>\n",
       "      <td>04/07/1989 12:00:00 AM</td>\n",
       "      <td>04/07/1989</td>\n",
       "      <td>318816.0</td>\n",
       "      <td>Future Transportation Facility Site</td>\n",
       "      <td>04/07/1989 12:00:00 AM</td>\n",
       "      <td>890158647</td>\n",
       "      <td>21810002D</td>\n",
       "      <td>NaN</td>\n",
       "      <td>5.0</td>\n",
       "      <td>{\"x\": -12431979.5588, \"y\": 3952637.6893000007,...</td>\n",
       "    </tr>\n",
       "    <tr>\n",
       "      <th>24</th>\n",
       "      <td>25</td>\n",
       "      <td>Chosen</td>\n",
       "      <td>2147483647</td>\n",
       "      <td>220</td>\n",
       "      <td>220</td>\n",
       "      <td>1</td>\n",
       "      <td>10996526</td>\n",
       "      <td>0.415415</td>\n",
       "      <td>1</td>\n",
       "      <td>-111.702969</td>\n",
       "      <td>...</td>\n",
       "      <td>05/27/1988 12:00:00 AM</td>\n",
       "      <td>05/27/1988</td>\n",
       "      <td>91345.0</td>\n",
       "      <td>Excess Property</td>\n",
       "      <td>05/27/1988 12:00:00 AM</td>\n",
       "      <td>880257803</td>\n",
       "      <td>14178820</td>\n",
       "      <td>NaN</td>\n",
       "      <td>5.0</td>\n",
       "      <td>{\"x\": -12434717.6001, \"y\": 3952657.7739000022,...</td>\n",
       "    </tr>\n",
       "  </tbody>\n",
       "</table>\n",
       "<p>3 rows × 67 columns</p>\n",
       "</div>"
      ],
      "text/plain": [
       "    OBJECTID FacilityType    Capacity  DemandCount  AllocatedDemand  SourceID  \\\n",
       "15        16       Chosen  2147483647          593              593         1   \n",
       "19        20       Chosen  2147483647          277              277         1   \n",
       "24        25       Chosen  2147483647          220              220         1   \n",
       "\n",
       "    SourceOID  PosAlong  SideOfEdge       SnapX  ...               Deed_Date  \\\n",
       "15   10979449  0.187006           1 -111.831274  ...  09/13/1999 12:00:00 AM   \n",
       "19   11009911  0.222727           1 -111.678427  ...  04/07/1989 12:00:00 AM   \n",
       "24   10996526  0.415415           1 -111.702969  ...  05/27/1988 12:00:00 AM   \n",
       "\n",
       "    Purchase_D  Square_Fee                           Facility_N  \\\n",
       "15  09/13/1999       200.0                   future bus shelter   \n",
       "19  04/07/1989    318816.0  Future Transportation Facility Site   \n",
       "24  05/27/1988     91345.0                      Excess Property   \n",
       "\n",
       "                Date_Acqui  Deed_Numbe        APN Mesa_Refer Council_Di  \\\n",
       "15  09/13/1999 12:00:00 AM   990855151  13725220D        NaN        6.0   \n",
       "19  04/07/1989 12:00:00 AM   890158647  21810002D        NaN        5.0   \n",
       "24  05/27/1988 12:00:00 AM   880257803   14178820        NaN        5.0   \n",
       "\n",
       "                                                SHAPE  \n",
       "15  {\"x\": -12449000.4753, \"y\": 3951980.6396000013,...  \n",
       "19  {\"x\": -12431979.5588, \"y\": 3952637.6893000007,...  \n",
       "24  {\"x\": -12434717.6001, \"y\": 3952657.7739000022,...  \n",
       "\n",
       "[3 rows x 67 columns]"
      ]
     },
     "execution_count": 36,
     "metadata": {},
     "output_type": "execute_result"
    }
   ],
   "source": [
    "# Title: New_Assigned_facilities_for_DOAs_Vacants_Section_1 | Type: Feature Service | Owner: dsc170wi23_24\n",
    "candidate_ems_sites = agol.content.get(\"2d3c501257384b6bb18bff9a8ebc9db6\")\n",
    "candidate_ems_sites_fl = candidate_ems_sites.layers[0]\n",
    "candidate_ems_sites_sdf = candidate_ems_sites_fl.query().sdf\n",
    "candidate_ems_sites_sdf = candidate_ems_sites_sdf[candidate_ems_sites_sdf['FacilityType']=='Chosen']\n",
    "candidate_ems_sites_sdf"
   ]
  },
  {
   "cell_type": "code",
   "execution_count": 37,
   "id": "40fe6c8d",
   "metadata": {
    "hidden": true
   },
   "outputs": [
    {
     "name": "stdout",
     "output_type": "stream",
     "text": [
      "From AGOL\n"
     ]
    }
   ],
   "source": [
    "try:\n",
    "    # Title: candidate_ems | Type: Feature Service | Owner: dsc170wi23_9\n",
    "    candidate_ems_sites = agol.content.get('5646ab3f4985406caa76d01934eb6aed')\n",
    "    print('From AGOL')\n",
    "    \n",
    "except:\n",
    "    candidate_ems_sites = candidate_ems_sites_sdf.spatial.to_featurelayer(title='candidate_ems',gis=agol)\n",
    "    print('To AGOL')\n",
    "    \n",
    "candidate_ems_sites_fl = candidate_ems_sites.layers[0]\n",
    "candidate_ems_sites_sdf = candidate_ems_sites_fl.query().sdf"
   ]
  },
  {
   "cell_type": "markdown",
   "id": "ee97a19d",
   "metadata": {
    "hidden": true
   },
   "source": [
    "Step 2: Merging the 3 Candidate \"Chosen\" new Fire + EMS Stations data with the original Fire + EMS Stations data"
   ]
  },
  {
   "cell_type": "code",
   "execution_count": 38,
   "id": "cbff3230",
   "metadata": {
    "hidden": true
   },
   "outputs": [
    {
     "name": "stdout",
     "output_type": "stream",
     "text": [
      "From AGOL\n"
     ]
    }
   ],
   "source": [
    "try:\n",
    "    # Title: ems_with_candidates | Type: Feature Service | Owner: dsc170wi23_9\n",
    "    merged_ems = agol.content.get(\"12d85f960585479b8610d81538040951\")\n",
    "    print('From AGOL')\n",
    "    \n",
    "except:\n",
    "    merged_ems = features.manage_data.merge_layers(input_layer=ems_fl,\n",
    "                                                       merge_layer=candidate_ems_sites_fl,\n",
    "                                                       output_name='ems_with_candidates')\n",
    "    print('To AGOL')\n",
    "    \n",
    "merged_ems_fl = merged_ems.layers[0]"
   ]
  },
  {
   "cell_type": "markdown",
   "id": "02464458",
   "metadata": {
    "hidden": true
   },
   "source": [
    "Step 3: Use the create_drive_time_areas function from the Features Use_Proximity Module in ArcGIS\n",
    "- Takes in Fire + EMS Stations Merged with 3 Candidate \"Chosen\" Locations feature layer as input, along with the breaks in minutes, and outputs a feature layer with service areas\n",
    "- We converted the output feature layer as an SEDF in the cell below"
   ]
  },
  {
   "cell_type": "code",
   "execution_count": 39,
   "id": "860819d7",
   "metadata": {
    "hidden": true
   },
   "outputs": [
    {
     "name": "stdout",
     "output_type": "stream",
     "text": [
      "From AGOL\n"
     ]
    },
    {
     "data": {
      "text/html": [
       "<div>\n",
       "<style scoped>\n",
       "    .dataframe tbody tr th:only-of-type {\n",
       "        vertical-align: middle;\n",
       "    }\n",
       "\n",
       "    .dataframe tbody tr th {\n",
       "        vertical-align: top;\n",
       "    }\n",
       "\n",
       "    .dataframe thead th {\n",
       "        text-align: right;\n",
       "    }\n",
       "</style>\n",
       "<table border=\"1\" class=\"dataframe\">\n",
       "  <thead>\n",
       "    <tr style=\"text-align: right;\">\n",
       "      <th></th>\n",
       "      <th>OBJECTID</th>\n",
       "      <th>Name</th>\n",
       "      <th>FromBreak</th>\n",
       "      <th>ToBreak</th>\n",
       "      <th>FacilityOID</th>\n",
       "      <th>AnalysisArea</th>\n",
       "      <th>SHAPE</th>\n",
       "    </tr>\n",
       "  </thead>\n",
       "  <tbody>\n",
       "    <tr>\n",
       "      <th>0</th>\n",
       "      <td>1</td>\n",
       "      <td>30 - 45</td>\n",
       "      <td>30</td>\n",
       "      <td>45</td>\n",
       "      <td>None</td>\n",
       "      <td>1818.702395</td>\n",
       "      <td>{\"rings\": [[[-12417843.1724, 3849531.3909], [-...</td>\n",
       "    </tr>\n",
       "    <tr>\n",
       "      <th>1</th>\n",
       "      <td>2</td>\n",
       "      <td>20 - 30</td>\n",
       "      <td>20</td>\n",
       "      <td>30</td>\n",
       "      <td>None</td>\n",
       "      <td>663.440603</td>\n",
       "      <td>{\"rings\": [[[-12482567.8764, 4023727.2056], [-...</td>\n",
       "    </tr>\n",
       "    <tr>\n",
       "      <th>2</th>\n",
       "      <td>3</td>\n",
       "      <td>15 - 20</td>\n",
       "      <td>15</td>\n",
       "      <td>20</td>\n",
       "      <td>None</td>\n",
       "      <td>325.269566</td>\n",
       "      <td>{\"rings\": [[[-12501467.79, 3976561.96], [-1250...</td>\n",
       "    </tr>\n",
       "    <tr>\n",
       "      <th>3</th>\n",
       "      <td>4</td>\n",
       "      <td>10 - 15</td>\n",
       "      <td>10</td>\n",
       "      <td>15</td>\n",
       "      <td>None</td>\n",
       "      <td>260.758138</td>\n",
       "      <td>{\"rings\": [[[-12480767.8846, 3989987.9245], [-...</td>\n",
       "    </tr>\n",
       "    <tr>\n",
       "      <th>4</th>\n",
       "      <td>5</td>\n",
       "      <td>5 - 10</td>\n",
       "      <td>5</td>\n",
       "      <td>10</td>\n",
       "      <td>None</td>\n",
       "      <td>319.540805</td>\n",
       "      <td>{\"rings\": [[[-12501742.7887, 3960813.1574], [-...</td>\n",
       "    </tr>\n",
       "    <tr>\n",
       "      <th>5</th>\n",
       "      <td>6</td>\n",
       "      <td>0 - 5</td>\n",
       "      <td>0</td>\n",
       "      <td>5</td>\n",
       "      <td>None</td>\n",
       "      <td>562.369501</td>\n",
       "      <td>{\"rings\": [[[-12476942.9022, 3934223.8948], [-...</td>\n",
       "    </tr>\n",
       "  </tbody>\n",
       "</table>\n",
       "</div>"
      ],
      "text/plain": [
       "   OBJECTID     Name  FromBreak  ToBreak FacilityOID  AnalysisArea  \\\n",
       "0         1  30 - 45         30       45        None   1818.702395   \n",
       "1         2  20 - 30         20       30        None    663.440603   \n",
       "2         3  15 - 20         15       20        None    325.269566   \n",
       "3         4  10 - 15         10       15        None    260.758138   \n",
       "4         5   5 - 10          5       10        None    319.540805   \n",
       "5         6    0 - 5          0        5        None    562.369501   \n",
       "\n",
       "                                               SHAPE  \n",
       "0  {\"rings\": [[[-12417843.1724, 3849531.3909], [-...  \n",
       "1  {\"rings\": [[[-12482567.8764, 4023727.2056], [-...  \n",
       "2  {\"rings\": [[[-12501467.79, 3976561.96], [-1250...  \n",
       "3  {\"rings\": [[[-12480767.8846, 3989987.9245], [-...  \n",
       "4  {\"rings\": [[[-12501742.7887, 3960813.1574], [-...  \n",
       "5  {\"rings\": [[[-12476942.9022, 3934223.8948], [-...  "
      ]
     },
     "execution_count": 39,
     "metadata": {},
     "output_type": "execute_result"
    }
   ],
   "source": [
    "try:\n",
    "    # Title: TruckTimeFromEMSPlusCandidates | Type: Feature Service | Owner: dsc170wi23_9\n",
    "    truck_times_ems_candidates = agol.content.get(\"73aa95ffcd844b5a99f87d1bd7e9995c\")\n",
    "    print('From AGOL')\n",
    "    \n",
    "except:\n",
    "    truck_times_ems_candidates = create_drive_time_areas(merged_ems_fl, \n",
    "                                            break_values = [5,10,15,20,30,45],\n",
    "                                            break_units = 'Minutes',\n",
    "                                            travel_mode = 'Trucking Time',\n",
    "                                            travel_direction = 'AwayFromFacility',\n",
    "                                            output_name='TruckTimeFromEMSPlusCandidates',\n",
    "                                            overlap_policy='Dissolve')\n",
    "    print('To AGOL')\n",
    "    \n",
    "truck_times_ems_candidates_fl = truck_times_ems_candidates.layers[0]\n",
    "truck_times_ems_candidates_sdf = truck_times_ems_candidates_fl.query().sdf\n",
    "truck_times_ems_candidates_sdf"
   ]
  },
  {
   "cell_type": "markdown",
   "id": "8b4d4aca",
   "metadata": {
    "hidden": true
   },
   "source": [
    "Step 4: Mapping the Result. This map is interpretted in the Summaries section below."
   ]
  },
  {
   "cell_type": "code",
   "execution_count": 40,
   "id": "da47e863",
   "metadata": {
    "hidden": true
   },
   "outputs": [
    {
     "data": {
      "application/vnd.jupyter.widget-view+json": {
       "model_id": "fc397172d3f54fbbb1e3d52dfe8c2bce",
       "version_major": 2,
       "version_minor": 0
      },
      "text/plain": [
       "MapView(layout=Layout(height='400px', width='100%'))"
      ]
     },
     "metadata": {},
     "output_type": "display_data"
    },
    {
     "data": {
      "text/html": [
       "<div class=\"map-static-img-preview-fdf533d3-bab3-4c2e-a239-932deba5361c\"><img src=\"\"></img></div>"
      ],
      "text/plain": [
       "<IPython.core.display.HTML object>"
      ]
     },
     "metadata": {},
     "output_type": "display_data"
    },
    {
     "data": {
      "text/html": [
       "<div class=\"map-html-embed-preview-fdf533d3-bab3-4c2e-a239-932deba5361c\"></div>"
      ],
      "text/plain": [
       "<IPython.core.display.HTML object>"
      ]
     },
     "metadata": {},
     "output_type": "display_data"
    }
   ],
   "source": [
    "map_truck_time_ems_candidates = agol.map('Mesa')\n",
    "map_truck_time_ems_candidates.add_layer(truck_times_ems_candidates_fl)\n",
    "map_truck_time_ems_candidates.add_layer(od_fl)\n",
    "map_truck_time_ems_candidates.add_layer(candidate_ems_sites_fl)\n",
    "map_truck_time_ems_candidates"
   ]
  },
  {
   "cell_type": "markdown",
   "id": "77bf463d",
   "metadata": {
    "hidden": true
   },
   "source": [
    "Step 5: aggregating all of the overdose points by each service area for Fire + EMS Stations + 3 candidate locations. Compute the mean of the binary DOA column to give a percent for each service area. See the table below for the result. Interpretted in the Summaries section below."
   ]
  },
  {
   "cell_type": "code",
   "execution_count": 41,
   "id": "4f883518",
   "metadata": {
    "hidden": true
   },
   "outputs": [
    {
     "name": "stdout",
     "output_type": "stream",
     "text": [
      "From AGOL\n"
     ]
    },
    {
     "data": {
      "text/html": [
       "<div>\n",
       "<style scoped>\n",
       "    .dataframe tbody tr th:only-of-type {\n",
       "        vertical-align: middle;\n",
       "    }\n",
       "\n",
       "    .dataframe tbody tr th {\n",
       "        vertical-align: top;\n",
       "    }\n",
       "\n",
       "    .dataframe thead th {\n",
       "        text-align: right;\n",
       "    }\n",
       "</style>\n",
       "<table border=\"1\" class=\"dataframe\">\n",
       "  <thead>\n",
       "    <tr style=\"text-align: right;\">\n",
       "      <th></th>\n",
       "      <th>OBJECTID</th>\n",
       "      <th>Name</th>\n",
       "      <th>FromBreak</th>\n",
       "      <th>ToBreak</th>\n",
       "      <th>FacilityOID</th>\n",
       "      <th>AnalysisArea</th>\n",
       "      <th>mean_DOA</th>\n",
       "      <th>sum_DOA</th>\n",
       "      <th>Point_Count</th>\n",
       "      <th>SHAPE</th>\n",
       "    </tr>\n",
       "  </thead>\n",
       "  <tbody>\n",
       "    <tr>\n",
       "      <th>0</th>\n",
       "      <td>1</td>\n",
       "      <td>30 - 45</td>\n",
       "      <td>30</td>\n",
       "      <td>45</td>\n",
       "      <td>None</td>\n",
       "      <td>1818.702395</td>\n",
       "      <td>NaN</td>\n",
       "      <td>0</td>\n",
       "      <td>0</td>\n",
       "      <td>{\"rings\": [[[-12417843.1724, 3849531.3909], [-...</td>\n",
       "    </tr>\n",
       "    <tr>\n",
       "      <th>1</th>\n",
       "      <td>2</td>\n",
       "      <td>20 - 30</td>\n",
       "      <td>20</td>\n",
       "      <td>30</td>\n",
       "      <td>None</td>\n",
       "      <td>663.440603</td>\n",
       "      <td>NaN</td>\n",
       "      <td>0</td>\n",
       "      <td>0</td>\n",
       "      <td>{\"rings\": [[[-12482567.8764, 4023727.2056], [-...</td>\n",
       "    </tr>\n",
       "    <tr>\n",
       "      <th>2</th>\n",
       "      <td>3</td>\n",
       "      <td>15 - 20</td>\n",
       "      <td>15</td>\n",
       "      <td>20</td>\n",
       "      <td>None</td>\n",
       "      <td>325.269566</td>\n",
       "      <td>NaN</td>\n",
       "      <td>0</td>\n",
       "      <td>0</td>\n",
       "      <td>{\"rings\": [[[-12501467.79, 3976561.96], [-1250...</td>\n",
       "    </tr>\n",
       "    <tr>\n",
       "      <th>3</th>\n",
       "      <td>4</td>\n",
       "      <td>10 - 15</td>\n",
       "      <td>10</td>\n",
       "      <td>15</td>\n",
       "      <td>None</td>\n",
       "      <td>260.758138</td>\n",
       "      <td>0.500000</td>\n",
       "      <td>1</td>\n",
       "      <td>2</td>\n",
       "      <td>{\"rings\": [[[-12480767.8846, 3989987.9245], [-...</td>\n",
       "    </tr>\n",
       "    <tr>\n",
       "      <th>4</th>\n",
       "      <td>5</td>\n",
       "      <td>5 - 10</td>\n",
       "      <td>5</td>\n",
       "      <td>10</td>\n",
       "      <td>None</td>\n",
       "      <td>319.540805</td>\n",
       "      <td>0.480000</td>\n",
       "      <td>120</td>\n",
       "      <td>250</td>\n",
       "      <td>{\"rings\": [[[-12501817.7884, 3960933.0673], [-...</td>\n",
       "    </tr>\n",
       "    <tr>\n",
       "      <th>5</th>\n",
       "      <td>6</td>\n",
       "      <td>0 - 5</td>\n",
       "      <td>0</td>\n",
       "      <td>5</td>\n",
       "      <td>None</td>\n",
       "      <td>562.369501</td>\n",
       "      <td>0.347787</td>\n",
       "      <td>2679</td>\n",
       "      <td>7703</td>\n",
       "      <td>{\"rings\": [[[-12478167.8966, 3934223.8948], [-...</td>\n",
       "    </tr>\n",
       "  </tbody>\n",
       "</table>\n",
       "</div>"
      ],
      "text/plain": [
       "   OBJECTID     Name  FromBreak  ToBreak FacilityOID  AnalysisArea  mean_DOA  \\\n",
       "0         1  30 - 45         30       45        None   1818.702395       NaN   \n",
       "1         2  20 - 30         20       30        None    663.440603       NaN   \n",
       "2         3  15 - 20         15       20        None    325.269566       NaN   \n",
       "3         4  10 - 15         10       15        None    260.758138  0.500000   \n",
       "4         5   5 - 10          5       10        None    319.540805  0.480000   \n",
       "5         6    0 - 5          0        5        None    562.369501  0.347787   \n",
       "\n",
       "   sum_DOA  Point_Count                                              SHAPE  \n",
       "0        0            0  {\"rings\": [[[-12417843.1724, 3849531.3909], [-...  \n",
       "1        0            0  {\"rings\": [[[-12482567.8764, 4023727.2056], [-...  \n",
       "2        0            0  {\"rings\": [[[-12501467.79, 3976561.96], [-1250...  \n",
       "3        1            2  {\"rings\": [[[-12480767.8846, 3989987.9245], [-...  \n",
       "4      120          250  {\"rings\": [[[-12501817.7884, 3960933.0673], [-...  \n",
       "5     2679         7703  {\"rings\": [[[-12478167.8966, 3934223.8948], [-...  "
      ]
     },
     "execution_count": 41,
     "metadata": {},
     "output_type": "execute_result"
    }
   ],
   "source": [
    "try:\n",
    "    # Title: Agg_OD_TruckTimeStations_Candidates | Type: Feature Service | Owner: dsc170wi23_9\n",
    "    agg_od_ems_candidates = agol.content.get('e828b5e4ec48482099b10dfec27cd548')\n",
    "    print('From AGOL')\n",
    "    \n",
    "except:\n",
    "    agg_od_ems_candidates = features.summarize_data.aggregate_points(point_layer=od_fl,\n",
    "                                                            polygon_layer=truck_times_ems_candidates_fl,\n",
    "                                                            summary_fields=['DOA mean','DOA sum'],\n",
    "                                                            output_name='Agg_OD_TruckTimeStations_Candidates'\n",
    "                                                           )\n",
    "    print('To AGOL')\n",
    "    \n",
    "agg_od_ems_candidates_fl = agg_od_ems_candidates.layers[0]\n",
    "agg_od_ems_candidates_sdf = agg_od_ems_candidates_fl.query().sdf\n",
    "agg_od_ems_candidates_sdf"
   ]
  },
  {
   "cell_type": "code",
   "execution_count": 42,
   "id": "ab9013f3",
   "metadata": {
    "hidden": true
   },
   "outputs": [
    {
     "data": {
      "text/html": [
       "<div>\n",
       "<style scoped>\n",
       "    .dataframe tbody tr th:only-of-type {\n",
       "        vertical-align: middle;\n",
       "    }\n",
       "\n",
       "    .dataframe tbody tr th {\n",
       "        vertical-align: top;\n",
       "    }\n",
       "\n",
       "    .dataframe thead th {\n",
       "        text-align: right;\n",
       "    }\n",
       "</style>\n",
       "<table border=\"1\" class=\"dataframe\">\n",
       "  <thead>\n",
       "    <tr style=\"text-align: right;\">\n",
       "      <th></th>\n",
       "      <th>OBJECTID</th>\n",
       "      <th>Name</th>\n",
       "      <th>FromBreak</th>\n",
       "      <th>ToBreak</th>\n",
       "      <th>FacilityOID</th>\n",
       "      <th>AnalysisArea</th>\n",
       "      <th>mean_DOA</th>\n",
       "      <th>sum_DOA</th>\n",
       "      <th>Point_Count</th>\n",
       "      <th>SHAPE</th>\n",
       "    </tr>\n",
       "  </thead>\n",
       "  <tbody>\n",
       "    <tr>\n",
       "      <th>0</th>\n",
       "      <td>1</td>\n",
       "      <td>30 - 45</td>\n",
       "      <td>30</td>\n",
       "      <td>45</td>\n",
       "      <td>None</td>\n",
       "      <td>1818.702395</td>\n",
       "      <td>NaN</td>\n",
       "      <td>0</td>\n",
       "      <td>0</td>\n",
       "      <td>{\"rings\": [[[-12417843.1724, 3849531.3909], [-...</td>\n",
       "    </tr>\n",
       "    <tr>\n",
       "      <th>1</th>\n",
       "      <td>2</td>\n",
       "      <td>20 - 30</td>\n",
       "      <td>20</td>\n",
       "      <td>30</td>\n",
       "      <td>None</td>\n",
       "      <td>663.440603</td>\n",
       "      <td>NaN</td>\n",
       "      <td>0</td>\n",
       "      <td>0</td>\n",
       "      <td>{\"rings\": [[[-12482567.8764, 4023727.2056], [-...</td>\n",
       "    </tr>\n",
       "    <tr>\n",
       "      <th>2</th>\n",
       "      <td>3</td>\n",
       "      <td>15 - 20</td>\n",
       "      <td>15</td>\n",
       "      <td>20</td>\n",
       "      <td>None</td>\n",
       "      <td>325.269566</td>\n",
       "      <td>NaN</td>\n",
       "      <td>0</td>\n",
       "      <td>0</td>\n",
       "      <td>{\"rings\": [[[-12501467.79, 3976561.96], [-1250...</td>\n",
       "    </tr>\n",
       "    <tr>\n",
       "      <th>3</th>\n",
       "      <td>4</td>\n",
       "      <td>10 - 15</td>\n",
       "      <td>10</td>\n",
       "      <td>15</td>\n",
       "      <td>None</td>\n",
       "      <td>260.758138</td>\n",
       "      <td>0.500000</td>\n",
       "      <td>1</td>\n",
       "      <td>2</td>\n",
       "      <td>{\"rings\": [[[-12480767.8846, 3989987.9245], [-...</td>\n",
       "    </tr>\n",
       "    <tr>\n",
       "      <th>4</th>\n",
       "      <td>5</td>\n",
       "      <td>5 - 10</td>\n",
       "      <td>5</td>\n",
       "      <td>10</td>\n",
       "      <td>None</td>\n",
       "      <td>319.751956</td>\n",
       "      <td>0.516484</td>\n",
       "      <td>141</td>\n",
       "      <td>273</td>\n",
       "      <td>{\"rings\": [[[-12501817.7884, 3960933.0673], [-...</td>\n",
       "    </tr>\n",
       "    <tr>\n",
       "      <th>5</th>\n",
       "      <td>6</td>\n",
       "      <td>0 - 5</td>\n",
       "      <td>0</td>\n",
       "      <td>5</td>\n",
       "      <td>None</td>\n",
       "      <td>562.158450</td>\n",
       "      <td>0.346094</td>\n",
       "      <td>2658</td>\n",
       "      <td>7680</td>\n",
       "      <td>{\"rings\": [[[-12478167.8966, 3934223.8948], [-...</td>\n",
       "    </tr>\n",
       "  </tbody>\n",
       "</table>\n",
       "</div>"
      ],
      "text/plain": [
       "   OBJECTID     Name  FromBreak  ToBreak FacilityOID  AnalysisArea  mean_DOA  \\\n",
       "0         1  30 - 45         30       45        None   1818.702395       NaN   \n",
       "1         2  20 - 30         20       30        None    663.440603       NaN   \n",
       "2         3  15 - 20         15       20        None    325.269566       NaN   \n",
       "3         4  10 - 15         10       15        None    260.758138  0.500000   \n",
       "4         5   5 - 10          5       10        None    319.751956  0.516484   \n",
       "5         6    0 - 5          0        5        None    562.158450  0.346094   \n",
       "\n",
       "   sum_DOA  Point_Count                                              SHAPE  \n",
       "0        0            0  {\"rings\": [[[-12417843.1724, 3849531.3909], [-...  \n",
       "1        0            0  {\"rings\": [[[-12482567.8764, 4023727.2056], [-...  \n",
       "2        0            0  {\"rings\": [[[-12501467.79, 3976561.96], [-1250...  \n",
       "3        1            2  {\"rings\": [[[-12480767.8846, 3989987.9245], [-...  \n",
       "4      141          273  {\"rings\": [[[-12501817.7884, 3960933.0673], [-...  \n",
       "5     2658         7680  {\"rings\": [[[-12478167.8966, 3934223.8948], [-...  "
      ]
     },
     "execution_count": 42,
     "metadata": {},
     "output_type": "execute_result"
    }
   ],
   "source": [
    "agg_od_ems_sdf"
   ]
  },
  {
   "cell_type": "markdown",
   "id": "5f4193e7",
   "metadata": {},
   "source": [
    "## 10. Summary of products and results (10pt) <a class=\"anchor\" id=\"sect10\"></a>\n",
    "<div class=\"alert alert-block alert-info\">\n",
    "<b>Instructions:</b><br> Describe what you found, and why it is important; illustrate the findings with maps/charts\n",
    "reflecting your results.<br><br>\n",
    "(a combination of markdown and documented code cells)<br><br>\n",
    "(200 words)\n",
    "</div>\n"
   ]
  },
  {
   "cell_type": "code",
   "execution_count": 43,
   "id": "f503d8ea",
   "metadata": {},
   "outputs": [
    {
     "data": {
      "text/html": [
       "<div>\n",
       "<style scoped>\n",
       "    .dataframe tbody tr th:only-of-type {\n",
       "        vertical-align: middle;\n",
       "    }\n",
       "\n",
       "    .dataframe tbody tr th {\n",
       "        vertical-align: top;\n",
       "    }\n",
       "\n",
       "    .dataframe thead th {\n",
       "        text-align: right;\n",
       "    }\n",
       "</style>\n",
       "<table border=\"1\" class=\"dataframe\">\n",
       "  <thead>\n",
       "    <tr style=\"text-align: right;\">\n",
       "      <th></th>\n",
       "      <th>OBJECTID</th>\n",
       "      <th>Name</th>\n",
       "      <th>FromBreak</th>\n",
       "      <th>ToBreak</th>\n",
       "      <th>FacilityOID</th>\n",
       "      <th>AnalysisArea</th>\n",
       "      <th>mean_DOA</th>\n",
       "      <th>std_DOA</th>\n",
       "      <th>sum_DOA</th>\n",
       "      <th>Point_Count</th>\n",
       "      <th>SHAPE</th>\n",
       "    </tr>\n",
       "  </thead>\n",
       "  <tbody>\n",
       "    <tr>\n",
       "      <th>0</th>\n",
       "      <td>1</td>\n",
       "      <td>30 - 45</td>\n",
       "      <td>30</td>\n",
       "      <td>45</td>\n",
       "      <td>None</td>\n",
       "      <td>1892.150227</td>\n",
       "      <td>NaN</td>\n",
       "      <td>NaN</td>\n",
       "      <td>0</td>\n",
       "      <td>0</td>\n",
       "      <td>{\"rings\": [[[-110.926383176, 32.5150182180001]...</td>\n",
       "    </tr>\n",
       "    <tr>\n",
       "      <th>1</th>\n",
       "      <td>2</td>\n",
       "      <td>20 - 30</td>\n",
       "      <td>20</td>\n",
       "      <td>30</td>\n",
       "      <td>None</td>\n",
       "      <td>1449.301705</td>\n",
       "      <td>NaN</td>\n",
       "      <td>NaN</td>\n",
       "      <td>0</td>\n",
       "      <td>0</td>\n",
       "      <td>{\"rings\": [[[-113.124326044, 33.9152607620001]...</td>\n",
       "    </tr>\n",
       "    <tr>\n",
       "      <th>2</th>\n",
       "      <td>3</td>\n",
       "      <td>15 - 20</td>\n",
       "      <td>15</td>\n",
       "      <td>20</td>\n",
       "      <td>None</td>\n",
       "      <td>696.582794</td>\n",
       "      <td>0.514286</td>\n",
       "      <td>0.507093</td>\n",
       "      <td>18</td>\n",
       "      <td>35</td>\n",
       "      <td>{\"rings\": [[[-111.551383176, 32.6681802730001]...</td>\n",
       "    </tr>\n",
       "    <tr>\n",
       "      <th>3</th>\n",
       "      <td>4</td>\n",
       "      <td>10 - 15</td>\n",
       "      <td>10</td>\n",
       "      <td>15</td>\n",
       "      <td>None</td>\n",
       "      <td>711.287731</td>\n",
       "      <td>0.435540</td>\n",
       "      <td>0.496694</td>\n",
       "      <td>125</td>\n",
       "      <td>287</td>\n",
       "      <td>{\"rings\": [[[-111.912953424, 33.21817129], [-1...</td>\n",
       "    </tr>\n",
       "    <tr>\n",
       "      <th>4</th>\n",
       "      <td>5</td>\n",
       "      <td>5 - 10</td>\n",
       "      <td>5</td>\n",
       "      <td>10</td>\n",
       "      <td>None</td>\n",
       "      <td>714.892474</td>\n",
       "      <td>0.449446</td>\n",
       "      <td>0.497600</td>\n",
       "      <td>689</td>\n",
       "      <td>1533</td>\n",
       "      <td>{\"rings\": [[[-112.374909946, 33.5503218470001]...</td>\n",
       "    </tr>\n",
       "    <tr>\n",
       "      <th>5</th>\n",
       "      <td>6</td>\n",
       "      <td>0 - 5</td>\n",
       "      <td>0</td>\n",
       "      <td>5</td>\n",
       "      <td>None</td>\n",
       "      <td>452.456418</td>\n",
       "      <td>0.322623</td>\n",
       "      <td>0.467518</td>\n",
       "      <td>1968</td>\n",
       "      <td>6100</td>\n",
       "      <td>{\"rings\": [[[-111.913851736, 33.6327418970001]...</td>\n",
       "    </tr>\n",
       "  </tbody>\n",
       "</table>\n",
       "</div>"
      ],
      "text/plain": [
       "   OBJECTID     Name  FromBreak  ToBreak FacilityOID  AnalysisArea  mean_DOA  \\\n",
       "0         1  30 - 45         30       45        None   1892.150227       NaN   \n",
       "1         2  20 - 30         20       30        None   1449.301705       NaN   \n",
       "2         3  15 - 20         15       20        None    696.582794  0.514286   \n",
       "3         4  10 - 15         10       15        None    711.287731  0.435540   \n",
       "4         5   5 - 10          5       10        None    714.892474  0.449446   \n",
       "5         6    0 - 5          0        5        None    452.456418  0.322623   \n",
       "\n",
       "    std_DOA  sum_DOA  Point_Count  \\\n",
       "0       NaN        0            0   \n",
       "1       NaN        0            0   \n",
       "2  0.507093       18           35   \n",
       "3  0.496694      125          287   \n",
       "4  0.497600      689         1533   \n",
       "5  0.467518     1968         6100   \n",
       "\n",
       "                                               SHAPE  \n",
       "0  {\"rings\": [[[-110.926383176, 32.5150182180001]...  \n",
       "1  {\"rings\": [[[-113.124326044, 33.9152607620001]...  \n",
       "2  {\"rings\": [[[-111.551383176, 32.6681802730001]...  \n",
       "3  {\"rings\": [[[-111.912953424, 33.21817129], [-1...  \n",
       "4  {\"rings\": [[[-112.374909946, 33.5503218470001]...  \n",
       "5  {\"rings\": [[[-111.913851736, 33.6327418970001]...  "
      ]
     },
     "execution_count": 43,
     "metadata": {},
     "output_type": "execute_result"
    }
   ],
   "source": [
    "agg_od_clinics_sdf"
   ]
  },
  {
   "cell_type": "markdown",
   "id": "2d00e258",
   "metadata": {},
   "source": [
    "The above table shows the Service Areas for Addiction Treatment Clinics. The \"Name\" column tells us the specific service area bounded by the drive time to the Addiction Treatment Clinic in minutes. The column labeled \"mean_DOA\" shows the proportion of overdose cases that resulted in Dead-On-Arrival (DOA) for each respective Service Area. As seen in this column the proportion of DOA overdose cases increases as the minimum drive time to an Addiction Treatment Clinic increases."
   ]
  },
  {
   "cell_type": "code",
   "execution_count": 44,
   "id": "fc6890c7",
   "metadata": {},
   "outputs": [
    {
     "data": {
      "application/vnd.jupyter.widget-view+json": {
       "model_id": "b0351f0ccfae49e7be815513fe802dc1",
       "version_major": 2,
       "version_minor": 0
      },
      "text/plain": [
       "MapView(layout=Layout(height='400px', width='100%'))"
      ]
     },
     "metadata": {},
     "output_type": "display_data"
    },
    {
     "data": {
      "text/html": [
       "<div class=\"map-static-img-preview-a3e04c56-71c1-44e0-a49e-ab30dafb697c\"><img src=\"\"></img></div>"
      ],
      "text/plain": [
       "<IPython.core.display.HTML object>"
      ]
     },
     "metadata": {},
     "output_type": "display_data"
    },
    {
     "data": {
      "text/html": [
       "<div class=\"map-html-embed-preview-a3e04c56-71c1-44e0-a49e-ab30dafb697c\"></div>"
      ],
      "text/plain": [
       "<IPython.core.display.HTML object>"
      ]
     },
     "metadata": {},
     "output_type": "display_data"
    }
   ],
   "source": [
    "map_drive_time_clinics"
   ]
  },
  {
   "cell_type": "code",
   "execution_count": 45,
   "id": "0461905f",
   "metadata": {},
   "outputs": [
    {
     "data": {
      "application/vnd.jupyter.widget-view+json": {
       "model_id": "56ba0862e6b345738412a2f54969b72d",
       "version_major": 2,
       "version_minor": 0
      },
      "text/plain": [
       "MapView(layout=Layout(height='400px', width='100%'))"
      ]
     },
     "metadata": {},
     "output_type": "display_data"
    },
    {
     "data": {
      "text/html": [
       "<div class=\"map-static-img-preview-a49f38d9-dafb-4597-807d-3d30a9b6247c\"><img src=\"\"></img></div>"
      ],
      "text/plain": [
       "<IPython.core.display.HTML object>"
      ]
     },
     "metadata": {},
     "output_type": "display_data"
    },
    {
     "data": {
      "text/html": [
       "<div class=\"map-html-embed-preview-a49f38d9-dafb-4597-807d-3d30a9b6247c\"></div>"
      ],
      "text/plain": [
       "<IPython.core.display.HTML object>"
      ]
     },
     "metadata": {},
     "output_type": "display_data"
    }
   ],
   "source": [
    "map_drive_time_clinics_candidates"
   ]
  },
  {
   "cell_type": "code",
   "execution_count": 46,
   "id": "80d905a4",
   "metadata": {},
   "outputs": [],
   "source": [
    "agg_od_clinics_sdf.index = agg_od_clinics_sdf.Name\n",
    "agg_od_clinics_candidates_sdf.index = agg_od_clinics_candidates_sdf.Name"
   ]
  },
  {
   "cell_type": "code",
   "execution_count": 47,
   "id": "2253ff67",
   "metadata": {},
   "outputs": [
    {
     "data": {
      "text/plain": [
       "Name\n",
       "30 - 45      0\n",
       "20 - 30      0\n",
       "15 - 20      0\n",
       "10 - 15    -25\n",
       "5 - 10    -171\n",
       "0 - 5      196\n",
       "Name: Point_Count, dtype: int64"
      ]
     },
     "execution_count": 47,
     "metadata": {},
     "output_type": "execute_result"
    }
   ],
   "source": [
    "# Calculation for Change in Number of Overdoses by Service Area after addition of candidate sites\n",
    "agg_od_clinics_candidates_sdf['Point_Count'] - agg_od_clinics_sdf['Point_Count']"
   ]
  },
  {
   "cell_type": "code",
   "execution_count": 48,
   "id": "3893da0d",
   "metadata": {},
   "outputs": [
    {
     "data": {
      "text/html": [
       "<div>\n",
       "<style scoped>\n",
       "    .dataframe tbody tr th:only-of-type {\n",
       "        vertical-align: middle;\n",
       "    }\n",
       "\n",
       "    .dataframe tbody tr th {\n",
       "        vertical-align: top;\n",
       "    }\n",
       "\n",
       "    .dataframe thead th {\n",
       "        text-align: right;\n",
       "    }\n",
       "</style>\n",
       "<table border=\"1\" class=\"dataframe\">\n",
       "  <thead>\n",
       "    <tr style=\"text-align: right;\">\n",
       "      <th></th>\n",
       "      <th>OBJECTID</th>\n",
       "      <th>Name</th>\n",
       "      <th>FromBreak</th>\n",
       "      <th>ToBreak</th>\n",
       "      <th>FacilityOID</th>\n",
       "      <th>AnalysisArea</th>\n",
       "      <th>mean_DOA</th>\n",
       "      <th>sum_DOA</th>\n",
       "      <th>Point_Count</th>\n",
       "      <th>SHAPE</th>\n",
       "    </tr>\n",
       "  </thead>\n",
       "  <tbody>\n",
       "    <tr>\n",
       "      <th>0</th>\n",
       "      <td>1</td>\n",
       "      <td>30 - 45</td>\n",
       "      <td>30</td>\n",
       "      <td>45</td>\n",
       "      <td>None</td>\n",
       "      <td>1818.702395</td>\n",
       "      <td>NaN</td>\n",
       "      <td>0</td>\n",
       "      <td>0</td>\n",
       "      <td>{\"rings\": [[[-12417843.1724, 3849531.3909], [-...</td>\n",
       "    </tr>\n",
       "    <tr>\n",
       "      <th>1</th>\n",
       "      <td>2</td>\n",
       "      <td>20 - 30</td>\n",
       "      <td>20</td>\n",
       "      <td>30</td>\n",
       "      <td>None</td>\n",
       "      <td>663.440603</td>\n",
       "      <td>NaN</td>\n",
       "      <td>0</td>\n",
       "      <td>0</td>\n",
       "      <td>{\"rings\": [[[-12482567.8764, 4023727.2056], [-...</td>\n",
       "    </tr>\n",
       "    <tr>\n",
       "      <th>2</th>\n",
       "      <td>3</td>\n",
       "      <td>15 - 20</td>\n",
       "      <td>15</td>\n",
       "      <td>20</td>\n",
       "      <td>None</td>\n",
       "      <td>325.269566</td>\n",
       "      <td>NaN</td>\n",
       "      <td>0</td>\n",
       "      <td>0</td>\n",
       "      <td>{\"rings\": [[[-12501467.79, 3976561.96], [-1250...</td>\n",
       "    </tr>\n",
       "    <tr>\n",
       "      <th>3</th>\n",
       "      <td>4</td>\n",
       "      <td>10 - 15</td>\n",
       "      <td>10</td>\n",
       "      <td>15</td>\n",
       "      <td>None</td>\n",
       "      <td>260.758138</td>\n",
       "      <td>0.500000</td>\n",
       "      <td>1</td>\n",
       "      <td>2</td>\n",
       "      <td>{\"rings\": [[[-12480767.8846, 3989987.9245], [-...</td>\n",
       "    </tr>\n",
       "    <tr>\n",
       "      <th>4</th>\n",
       "      <td>5</td>\n",
       "      <td>5 - 10</td>\n",
       "      <td>5</td>\n",
       "      <td>10</td>\n",
       "      <td>None</td>\n",
       "      <td>319.751956</td>\n",
       "      <td>0.516484</td>\n",
       "      <td>141</td>\n",
       "      <td>273</td>\n",
       "      <td>{\"rings\": [[[-12501817.7884, 3960933.0673], [-...</td>\n",
       "    </tr>\n",
       "    <tr>\n",
       "      <th>5</th>\n",
       "      <td>6</td>\n",
       "      <td>0 - 5</td>\n",
       "      <td>0</td>\n",
       "      <td>5</td>\n",
       "      <td>None</td>\n",
       "      <td>562.158450</td>\n",
       "      <td>0.346094</td>\n",
       "      <td>2658</td>\n",
       "      <td>7680</td>\n",
       "      <td>{\"rings\": [[[-12478167.8966, 3934223.8948], [-...</td>\n",
       "    </tr>\n",
       "  </tbody>\n",
       "</table>\n",
       "</div>"
      ],
      "text/plain": [
       "   OBJECTID     Name  FromBreak  ToBreak FacilityOID  AnalysisArea  mean_DOA  \\\n",
       "0         1  30 - 45         30       45        None   1818.702395       NaN   \n",
       "1         2  20 - 30         20       30        None    663.440603       NaN   \n",
       "2         3  15 - 20         15       20        None    325.269566       NaN   \n",
       "3         4  10 - 15         10       15        None    260.758138  0.500000   \n",
       "4         5   5 - 10          5       10        None    319.751956  0.516484   \n",
       "5         6    0 - 5          0        5        None    562.158450  0.346094   \n",
       "\n",
       "   sum_DOA  Point_Count                                              SHAPE  \n",
       "0        0            0  {\"rings\": [[[-12417843.1724, 3849531.3909], [-...  \n",
       "1        0            0  {\"rings\": [[[-12482567.8764, 4023727.2056], [-...  \n",
       "2        0            0  {\"rings\": [[[-12501467.79, 3976561.96], [-1250...  \n",
       "3        1            2  {\"rings\": [[[-12480767.8846, 3989987.9245], [-...  \n",
       "4      141          273  {\"rings\": [[[-12501817.7884, 3960933.0673], [-...  \n",
       "5     2658         7680  {\"rings\": [[[-12478167.8966, 3934223.8948], [-...  "
      ]
     },
     "execution_count": 48,
     "metadata": {},
     "output_type": "execute_result"
    }
   ],
   "source": [
    "agg_od_ems_sdf"
   ]
  },
  {
   "cell_type": "markdown",
   "id": "f965f129",
   "metadata": {},
   "source": [
    "The above table shows the Service Areas for Fire/EMS Stations. The \"Name\" column tells us the specific service area bounded by the truck time from the Fire/EMS Station in minutes. The column labeled \"mean_DOA\" shows the proportion of overdose cases that resulted in Dead-On-Arrival (DOA) for each respective Service Area. As seen in this column the proportion of DOA overdose cases increases as the minimum drive time to an Fire/EMS Station increases."
   ]
  },
  {
   "cell_type": "code",
   "execution_count": 49,
   "id": "2ca84290",
   "metadata": {},
   "outputs": [
    {
     "data": {
      "application/vnd.jupyter.widget-view+json": {
       "model_id": "4d075709ed864886ac1ffddac0e17786",
       "version_major": 2,
       "version_minor": 0
      },
      "text/plain": [
       "MapView(layout=Layout(height='400px', width='100%'))"
      ]
     },
     "metadata": {},
     "output_type": "display_data"
    },
    {
     "data": {
      "text/html": [
       "<div class=\"map-static-img-preview-e96b913b-34da-4ff1-bf11-74783de9454d\"><img src=\"\"></img></div>"
      ],
      "text/plain": [
       "<IPython.core.display.HTML object>"
      ]
     },
     "metadata": {},
     "output_type": "display_data"
    },
    {
     "data": {
      "text/html": [
       "<div class=\"map-html-embed-preview-e96b913b-34da-4ff1-bf11-74783de9454d\"></div>"
      ],
      "text/plain": [
       "<IPython.core.display.HTML object>"
      ]
     },
     "metadata": {},
     "output_type": "display_data"
    }
   ],
   "source": [
    "map_truck_time_ems"
   ]
  },
  {
   "cell_type": "code",
   "execution_count": 50,
   "id": "b333878f",
   "metadata": {},
   "outputs": [
    {
     "data": {
      "application/vnd.jupyter.widget-view+json": {
       "model_id": "fc397172d3f54fbbb1e3d52dfe8c2bce",
       "version_major": 2,
       "version_minor": 0
      },
      "text/plain": [
       "MapView(layout=Layout(height='400px', width='100%'))"
      ]
     },
     "metadata": {},
     "output_type": "display_data"
    },
    {
     "data": {
      "text/html": [
       "<div class=\"map-static-img-preview-fdf533d3-bab3-4c2e-a239-932deba5361c\"><img src=\"\"></img></div>"
      ],
      "text/plain": [
       "<IPython.core.display.HTML object>"
      ]
     },
     "metadata": {},
     "output_type": "display_data"
    },
    {
     "data": {
      "text/html": [
       "<div class=\"map-html-embed-preview-fdf533d3-bab3-4c2e-a239-932deba5361c\"></div>"
      ],
      "text/plain": [
       "<IPython.core.display.HTML object>"
      ]
     },
     "metadata": {},
     "output_type": "display_data"
    }
   ],
   "source": [
    "map_truck_time_ems_candidates"
   ]
  },
  {
   "cell_type": "code",
   "execution_count": 51,
   "id": "d421e39e",
   "metadata": {},
   "outputs": [],
   "source": [
    "agg_od_ems_sdf.index = agg_od_ems_sdf.Name\n",
    "agg_od_ems_candidates_sdf.index = agg_od_ems_candidates_sdf.Name"
   ]
  },
  {
   "cell_type": "code",
   "execution_count": 52,
   "id": "5ee70590",
   "metadata": {},
   "outputs": [
    {
     "data": {
      "text/plain": [
       "Name\n",
       "30 - 45     0\n",
       "20 - 30     0\n",
       "15 - 20     0\n",
       "10 - 15     0\n",
       "5 - 10    -23\n",
       "0 - 5      23\n",
       "Name: Point_Count, dtype: int64"
      ]
     },
     "execution_count": 52,
     "metadata": {},
     "output_type": "execute_result"
    }
   ],
   "source": [
    "# Calculation for Change in Number of Overdoses by Service Area after addition of candidate sites\n",
    "agg_od_ems_candidates_sdf['Point_Count'] - agg_od_ems_sdf['Point_Count']"
   ]
  },
  {
   "cell_type": "markdown",
   "id": "bc8a760c",
   "metadata": {},
   "source": [
    "## 11. Discussion (10pt) <a class=\"anchor\" id=\"sect11\"></a>\n",
    "<div class=\"alert alert-block alert-info\">\n",
    "<b>Instructions:</b><br> The discussion should include the following parts:\n",
    "<br>1) Discuss your findings with respect to the literature sources in section 3. What do the\n",
    "results mean in the context of what is already known? What is new? Does it validate\n",
    "what was found in literature? How do your results improve our understanding of the\n",
    "problem?\n",
    "</div>\n",
    "\n",
    "<div class=\"alert alert-block alert-warning\">\n",
    "<b>TODO:</b> (Marco)\n",
    "</div>\n",
    "\n",
    "<div class=\"alert alert-block alert-info\">\n",
    "    2) Of particular importance is a discussion of any trade-offs and decision points that you\n",
    "had to consider. This may include a discussion of any performance issues, width of\n",
    "buffers you applied, projections you chose, spatial operations you used, machine\n",
    "learning techniques, and other issues we discussed in class.\n",
    "(this can be done as a markdown, at least 200 words)\n",
    "</div>\n",
    "\n",
    "<div class=\"alert alert-block alert-warning\">\n",
    "For our project we were limited in our analysis by the spatial extent (constrained to Mesa, AZ) and accuracy (points rounded to nearest 1/3 mile point markers) of our opioid overdose dataset. We would have preferred to have more data available including in nearby cities such as Tempe and Phoenix. In addition, the lack of spatial accuracy in our opioid dataset makes our analysis slightly less accurate. However, there is nothing that we could have done differently to account for this, since the original point locations for opioid overdoses were rounded to the nearest 1/3 mile point. As such, this could have influenced the performance of our location-allocation analysis.\n",
    "</div>"
   ]
  },
  {
   "cell_type": "markdown",
   "id": "5777a050",
   "metadata": {},
   "source": [
    "## 12. Conclusions and future work (10pt) <a class=\"anchor\" id=\"sect12\"></a>\n",
    "<div class=\"alert alert-block alert-info\">\n",
    "<b>Instructions:</b><br> Did you manage to completely answer your initial research question? If not, what additional\n",
    "data and additional analysis steps can you think of? Can your approach be extended to other\n",
    "areas or topics, and use additional datasets? How do you expect the results to be used and by\n",
    "whom?<br><br>\n",
    "(a markdown cell, at least 200 words)\n",
    "</div>\n",
    "\n",
    "<div class=\"alert alert-block alert-warning\">\n",
    "Research Questions:<br>\n",
    "<b>1) Using GIS, how can we determine the accessibility of Addiction Treatment Facilities and Fire/EMS Stations in Mesa, AZ?</b><br>\n",
    "<b>2) Can we identify possible new locations for Addiction Treatment Facilities and Fire/EMS Stations to provide a better service area and minimize the number of Dead-On-Arrival (DOA) Overdoses?</b><br><br>\n",
    "Yes, we were able to preliminarily answer our initial research questions. First, we were able to measure the accessibility of Addiction Treatment Facilities and Fire + EMS Stations in Mesa, AZ, by performing a service area drive time analysis. We found that there were areas of overdoses which were further away from the service areas, which we found to be associated with an increase in proportion of Dead-On-Arrival overdose cases. <br>\n",
    "\n",
    "Second, we used location-allocation analysis to determine candidate locations for new Addiction Treatment Facilities and Fire + EMS Stations. We recomputed the service areas by drive time with the new candidate locations, and this showed a decrease in the number of overdose location points in the service areas that took longer to reach. Furthermore, it appeared from our results that the addition of 3 new addiction clinics decreased the drive time to the opioid case locations more profoundly than the addition of 3 new Fire + EMS Stations. We believe this is due to the fact that the original Fire + EMS Station locations appeared to be more evenly distributed in space as compared to the Addiction Treatment Clinics: the addition of a new Fire + EMS Station would not increase the service area as much as the addition of a new Addiction Treatment Clinic.\n",
    "\n",
    "For further steps, we propose creating service areas based on traffic patterns observed at different times of the day. In addition, having more candidate locations to choose from would be beneficial, as we only had a small dataset of vacant government properties to work from. \n",
    "\n",
    "Our project could be reproduced for any application of service areas and location-allocation analyses: traditionally, these analyses combined would be used for businesses to evaluate the demand and viability of adding a new facility, especially when competitors are present. \n",
    "\n",
    "The results detailed in our project for Mesa, AZ, warrant the systematic collection of national opioid overdose GIS Point data for large-scale analysis. While the findings from this project can only show a direct association between percentage of DOA overdose cases and increased drive time to medical treatment, large-scale analysis may be able to establish significance of this finding. As for Mesa, the local government should consider adding addiction treatment facilities in the candidate locations, as these facilities would decrease the drive time to a number of overdose point locations. This would hopefully diminish the number of DOA overdose cases, which is the worst health outcome.\n",
    "</div>"
   ]
  }
 ],
 "metadata": {
  "kernelspec": {
   "display_name": "Python 3 (ipykernel)",
   "language": "python",
   "name": "python3"
  },
  "language_info": {
   "codemirror_mode": {
    "name": "ipython",
    "version": 3
   },
   "file_extension": ".py",
   "mimetype": "text/x-python",
   "name": "python",
   "nbconvert_exporter": "python",
   "pygments_lexer": "ipython3",
   "version": "3.9.11"
  }
 },
 "nbformat": 4,
 "nbformat_minor": 5
}
